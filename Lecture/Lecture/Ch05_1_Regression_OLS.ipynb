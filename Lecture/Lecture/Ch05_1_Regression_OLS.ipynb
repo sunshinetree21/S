{
 "cells": [
  {
   "cell_type": "markdown",
   "metadata": {},
   "source": [
    "# Regression\n",
    "\n",
    "> **선형 회귀 모델**\n",
    "\n",
    "특정한 입력변수값을 사용하여 출력변수의 값을 계산하는 것을 예측(prediction)문제라고 한다. </br>\n",
    "예측문제 중에서 출력변수의 값이 연속값인 문제를 회귀(regression) 또는 회귀분석(regression analysis)이라고 한다."
   ]
  },
  {
   "cell_type": "markdown",
   "metadata": {},
   "source": [
    "# OLS 실습\n",
    "\n",
    "> **선형 최소 제곱(Ordinary Linear Least Square), 최소자승법(OLS: Ordinary Least Squares)**\n",
    "\n",
    "- ERROR인 잔차제곱합(RSS: Residual Sum of Squares)을 최소화하는 가중치 벡터를 구하는 방법이다.\n",
    "\n",
    "- 가중치 벡터 $X = (A^TA)^{-1}A^TY$\n",
    "\n",
    "- $~ X=\\begin{bmatrix} \\; a \\; \\\\ b \\end{bmatrix},~~~$\n",
    "\t$ A=\\begin{bmatrix} \\; x_1 \\; & \\; 1 \\; \\\\ \\vdots & \\vdots \\\\ x_n & 1 \\end{bmatrix},~~~$\n",
    "\t$ Y=\\begin{bmatrix} \\; y_1 \\; \\\\ \\vdots \\\\ y_n \\end{bmatrix}$"
   ]
  },
  {
   "cell_type": "code",
   "execution_count": 1,
   "metadata": {},
   "outputs": [
    {
     "name": "stdout",
     "output_type": "stream",
     "text": [
      "Requirement already satisfied: statsmodels in c:\\users\\happy\\miniconda3\\envs\\ds_study\\lib\\site-packages (0.14.1)\n",
      "Requirement already satisfied: numpy<2,>=1.18 in c:\\users\\happy\\miniconda3\\envs\\ds_study\\lib\\site-packages (from statsmodels) (1.24.3)\n",
      "Requirement already satisfied: scipy!=1.9.2,>=1.4 in c:\\users\\happy\\miniconda3\\envs\\ds_study\\lib\\site-packages (from statsmodels) (1.10.1)\n",
      "Requirement already satisfied: pandas!=2.1.0,>=1.0 in c:\\users\\happy\\miniconda3\\envs\\ds_study\\lib\\site-packages (from statsmodels) (2.0.3)\n",
      "Requirement already satisfied: patsy>=0.5.4 in c:\\users\\happy\\miniconda3\\envs\\ds_study\\lib\\site-packages (from statsmodels) (0.5.5)\n",
      "Requirement already satisfied: packaging>=21.3 in c:\\users\\happy\\miniconda3\\envs\\ds_study\\lib\\site-packages (from statsmodels) (23.1)\n",
      "Requirement already satisfied: python-dateutil>=2.8.2 in c:\\users\\happy\\miniconda3\\envs\\ds_study\\lib\\site-packages (from pandas!=2.1.0,>=1.0->statsmodels) (2.8.2)\n",
      "Requirement already satisfied: pytz>=2020.1 in c:\\users\\happy\\miniconda3\\envs\\ds_study\\lib\\site-packages (from pandas!=2.1.0,>=1.0->statsmodels) (2023.3.post1)\n",
      "Requirement already satisfied: tzdata>=2022.1 in c:\\users\\happy\\miniconda3\\envs\\ds_study\\lib\\site-packages (from pandas!=2.1.0,>=1.0->statsmodels) (2023.3)\n",
      "Requirement already satisfied: six in c:\\users\\happy\\miniconda3\\envs\\ds_study\\lib\\site-packages (from patsy>=0.5.4->statsmodels) (1.16.0)\n"
     ]
    }
   ],
   "source": [
    "# !pip install statsmodels"
   ]
  },
  {
   "cell_type": "markdown",
   "metadata": {},
   "source": [
    "#### --▶ Sample Data 만들기"
   ]
  },
  {
   "cell_type": "code",
   "execution_count": 1,
   "metadata": {},
   "outputs": [
    {
     "data": {
      "text/html": [
       "<div>\n",
       "<style scoped>\n",
       "    .dataframe tbody tr th:only-of-type {\n",
       "        vertical-align: middle;\n",
       "    }\n",
       "\n",
       "    .dataframe tbody tr th {\n",
       "        vertical-align: top;\n",
       "    }\n",
       "\n",
       "    .dataframe thead th {\n",
       "        text-align: right;\n",
       "    }\n",
       "</style>\n",
       "<table border=\"1\" class=\"dataframe\">\n",
       "  <thead>\n",
       "    <tr style=\"text-align: right;\">\n",
       "      <th></th>\n",
       "      <th>x</th>\n",
       "      <th>y</th>\n",
       "    </tr>\n",
       "  </thead>\n",
       "  <tbody>\n",
       "    <tr>\n",
       "      <th>0</th>\n",
       "      <td>1</td>\n",
       "      <td>1</td>\n",
       "    </tr>\n",
       "    <tr>\n",
       "      <th>1</th>\n",
       "      <td>2</td>\n",
       "      <td>3</td>\n",
       "    </tr>\n",
       "    <tr>\n",
       "      <th>2</th>\n",
       "      <td>3</td>\n",
       "      <td>4</td>\n",
       "    </tr>\n",
       "    <tr>\n",
       "      <th>3</th>\n",
       "      <td>4</td>\n",
       "      <td>6</td>\n",
       "    </tr>\n",
       "    <tr>\n",
       "      <th>4</th>\n",
       "      <td>5</td>\n",
       "      <td>5</td>\n",
       "    </tr>\n",
       "  </tbody>\n",
       "</table>\n",
       "</div>"
      ],
      "text/plain": [
       "   x  y\n",
       "0  1  1\n",
       "1  2  3\n",
       "2  3  4\n",
       "3  4  6\n",
       "4  5  5"
      ]
     },
     "execution_count": 1,
     "metadata": {},
     "output_type": "execute_result"
    }
   ],
   "source": [
    "import pandas as pd\n",
    "\n",
    "data = {'x': [1, 2, 3, 4, 5], 'y': [1, 3, 4, 6, 5]}\n",
    "df = pd.DataFrame(data)\n",
    "df"
   ]
  },
  {
   "cell_type": "markdown",
   "metadata": {},
   "source": [
    "#### --▶ 가설 세우기\n",
    "\n",
    "- 선형 회귀 모델 생성\n",
    "\n",
    "- 데이터에 맞는(fit) 최선의 가중치 벡터(a, b)를 찾아 선형식을 완성한다.\n",
    "\n",
    "❇ statsmodels 패키지는 상수항 결합을 위한 `add_constant` 함수를 제공한다.\n",
    "\n",
    "- ex.\n",
    "\n",
    "\timport numpy as np</br>\n",
    "\timport statsmodels.api as sm\n",
    "\n",
    "\tX0 = np.arange(10).reshape(5, 2)</br>\n",
    "\tX = sm.add_constant(X0)"
   ]
  },
  {
   "cell_type": "code",
   "execution_count": 2,
   "metadata": {},
   "outputs": [],
   "source": [
    "import statsmodels.formula.api as smf\n",
    "\n",
    "# formula='y ~ x'는 \"y = ax + b\"라는 의미를 내포하고 있다. \n",
    "lm_model = smf.ols(formula='y ~ x', data=df).fit()"
   ]
  },
  {
   "cell_type": "code",
   "execution_count": 3,
   "metadata": {},
   "outputs": [
    {
     "data": {
      "text/plain": [
       "Intercept    0.5\n",
       "x            1.1\n",
       "dtype: float64"
      ]
     },
     "execution_count": 3,
     "metadata": {},
     "output_type": "execute_result"
    }
   ],
   "source": [
    "lm_model.params #--> 데이터에 맞는(fit) 최선의 가중치 벡터(a, b)"
   ]
  },
  {
   "cell_type": "markdown",
   "metadata": {},
   "source": [
    "#### --▶ 시각화"
   ]
  },
  {
   "cell_type": "code",
   "execution_count": 6,
   "metadata": {},
   "outputs": [
    {
     "data": {
      "image/png": "[encoded data removed]",
      "text/plain": [
       "<Figure size 500x500 with 1 Axes>"
      ]
     },
     "metadata": {},
     "output_type": "display_data"
    }
   ],
   "source": [
    "import matplotlib.pyplot as plt\n",
    "import seaborn as sns\n",
    "from warnings import filterwarnings\n",
    "filterwarnings(\"ignore\", category=UserWarning)\n",
    "\n",
    "# plt.figure(figsize=(10,10))\n",
    "sns.lmplot(x='x', y='y',data = df)\n",
    "plt.xlim([0,5])\n",
    "plt.grid()\n",
    "plt.show()"
   ]
  },
  {
   "cell_type": "markdown",
   "metadata": {},
   "source": [
    "#### --▶ 잔차(residue) 평가\n",
    "\n",
    "- 잔차[= 실제값 - 예측값\\]는 평균이 0인 정규분포를 따르는 것 이어야 한다.\n",
    "\n",
    "- 잔차 평가는 잔차의 평균이 0이고 정규분포를 따르는 지 확인하는 것이다."
   ]
  },
  {
   "cell_type": "code",
   "execution_count": 26,
   "metadata": {},
   "outputs": [
    {
     "name": "stdout",
     "output_type": "stream",
     "text": [
      "                            OLS Regression Results                            \n",
      "==============================================================================\n",
      "Dep. Variable:                      y   R-squared:                       0.818\n",
      "Model:                            OLS   Adj. R-squared:                  0.757\n",
      "Method:                 Least Squares   F-statistic:                     13.44\n",
      "Date:                Tue, 05 Mar 2024   Prob (F-statistic):             0.0351\n",
      "Time:                        18:39:52   Log-Likelihood:                -5.5542\n",
      "No. Observations:                   5   AIC:                             15.11\n",
      "Df Residuals:                       3   BIC:                             14.33\n",
      "Df Model:                           1                                         \n",
      "Covariance Type:            nonrobust                                         \n",
      "==============================================================================\n",
      "                 coef    std err          t      P>|t|      [0.025      0.975]\n",
      "------------------------------------------------------------------------------\n",
      "Intercept      0.5000      0.995      0.503      0.650      -2.666       3.666\n",
      "x              1.1000      0.300      3.667      0.035       0.145       2.055\n",
      "==============================================================================\n",
      "Omnibus:                          nan   Durbin-Watson:                   2.237\n",
      "Prob(Omnibus):                    nan   Jarque-Bera (JB):                0.312\n",
      "Skew:                           0.076   Prob(JB):                        0.856\n",
      "Kurtosis:                       1.786   Cond. No.                         8.37\n",
      "==============================================================================\n",
      "\n",
      "Notes:\n",
      "[1] Standard Errors assume that the covariance matrix of the errors is correctly specified.\n"
     ]
    }
   ],
   "source": [
    "print(lm_model.summary())"
   ]
  },
  {
   "cell_type": "code",
   "execution_count": 4,
   "metadata": {},
   "outputs": [
    {
     "data": {
      "text/plain": [
       "(0   -0.6\n",
       " 1    0.3\n",
       " 2    0.2\n",
       " 3    1.1\n",
       " 4   -1.0\n",
       " dtype: float64,\n",
       " pandas.core.series.Series)"
      ]
     },
     "execution_count": 4,
     "metadata": {},
     "output_type": "execute_result"
    }
   ],
   "source": [
    "residual = lm_model.resid\n",
    "residual, type(residual)"
   ]
  },
  {
   "cell_type": "code",
   "execution_count": 29,
   "metadata": {},
   "outputs": [
    {
     "data": {
      "text/plain": [
       "-2.4424906541753444e-15"
      ]
     },
     "execution_count": 29,
     "metadata": {},
     "output_type": "execute_result"
    }
   ],
   "source": [
    "residual.sum() #--> 합은 0"
   ]
  },
  {
   "cell_type": "code",
   "execution_count": 24,
   "metadata": {},
   "outputs": [
    {
     "data": {
      "text/html": [
       "<div>\n",
       "<style scoped>\n",
       "    .dataframe tbody tr th:only-of-type {\n",
       "        vertical-align: middle;\n",
       "    }\n",
       "\n",
       "    .dataframe tbody tr th {\n",
       "        vertical-align: top;\n",
       "    }\n",
       "\n",
       "    .dataframe thead th {\n",
       "        text-align: right;\n",
       "    }\n",
       "</style>\n",
       "<table border=\"1\" class=\"dataframe\">\n",
       "  <thead>\n",
       "    <tr style=\"text-align: right;\">\n",
       "      <th></th>\n",
       "      <th>x</th>\n",
       "      <th>y</th>\n",
       "      <th>hat y</th>\n",
       "      <th>residual</th>\n",
       "    </tr>\n",
       "  </thead>\n",
       "  <tbody>\n",
       "    <tr>\n",
       "      <th>0</th>\n",
       "      <td>1</td>\n",
       "      <td>1</td>\n",
       "      <td>1.6</td>\n",
       "      <td>-0.6</td>\n",
       "    </tr>\n",
       "    <tr>\n",
       "      <th>1</th>\n",
       "      <td>2</td>\n",
       "      <td>3</td>\n",
       "      <td>2.7</td>\n",
       "      <td>0.3</td>\n",
       "    </tr>\n",
       "    <tr>\n",
       "      <th>2</th>\n",
       "      <td>3</td>\n",
       "      <td>4</td>\n",
       "      <td>3.8</td>\n",
       "      <td>0.2</td>\n",
       "    </tr>\n",
       "    <tr>\n",
       "      <th>3</th>\n",
       "      <td>4</td>\n",
       "      <td>6</td>\n",
       "      <td>4.9</td>\n",
       "      <td>1.1</td>\n",
       "    </tr>\n",
       "    <tr>\n",
       "      <th>4</th>\n",
       "      <td>5</td>\n",
       "      <td>5</td>\n",
       "      <td>6.0</td>\n",
       "      <td>-1.0</td>\n",
       "    </tr>\n",
       "  </tbody>\n",
       "</table>\n",
       "</div>"
      ],
      "text/plain": [
       "   x  y  hat y  residual\n",
       "0  1  1    1.6      -0.6\n",
       "1  2  3    2.7       0.3\n",
       "2  3  4    3.8       0.2\n",
       "3  4  6    4.9       1.1\n",
       "4  5  5    6.0      -1.0"
      ]
     },
     "execution_count": 24,
     "metadata": {},
     "output_type": "execute_result"
    }
   ],
   "source": [
    "df.loc[:, 'hat y'] = lm_model.params.x * df['x'] + lm_model.params.Intercept\n",
    "df.loc[:, 'residual'] = residual\n",
    "df"
   ]
  },
  {
   "cell_type": "code",
   "execution_count": 28,
   "metadata": {},
   "outputs": [
    {
     "data": {
      "image/png": "[encoded data removed]",
      "text/plain": [
       "<Figure size 640x480 with 1 Axes>"
      ]
     },
     "metadata": {},
     "output_type": "display_data"
    }
   ],
   "source": [
    "lm_model.resid.plot(style=\"o\")\n",
    "plt.title(\"Residual Vector\")\n",
    "plt.xlabel(\"Data Num\")\n",
    "plt.ylabel(\"Residual\")\n",
    "plt.show()"
   ]
  },
  {
   "cell_type": "code",
   "execution_count": 11,
   "metadata": {},
   "outputs": [
    {
     "data": {
      "image/png": "[encoded data removed]",
      "text/plain": [
       "<Figure size 200x500 with 1 Axes>"
      ]
     },
     "metadata": {},
     "output_type": "display_data"
    }
   ],
   "source": [
    "plt.figure(figsize=(2, 5))\n",
    "sns.boxplot(y=residual)\n",
    "plt.show()"
   ]
  },
  {
   "cell_type": "markdown",
   "metadata": {},
   "source": [
    "## 📍 결정계수 R-squared\n",
    "\n",
    "<img src=\"https://github.com/ElaYJ/supplement/assets/153154981/d9f1015f-1809-4b1b-8df5-573b42a05b68\" width=\"67%\" height=\"67%\">\n",
    "\n",
    "$~~~~~\\large \\text{R-squared}=\\cfrac{\\text{ssR}}{\\text{ssT}}~~~\\Rightarrow~~~$\n",
    "$\\Large \\boxed{~ R^2 = \\cfrac{~\\sum_{i=1}^n(\\hat y - \\mu)^2~}{\\sum_{i=1}^n(y - \\mu)^2}~}$\n",
    "\n",
    "- 결정계수는 참값(실제 데이터의 값)이 가지는 평균으로부터의 오차가 얼마나 되는지에 대한 개념이다.\n",
    "\n",
    "- ssR은 참값이 가지는 평균으로부터 선형 회귀 모델의 오차에 대한 분산이고,\n",
    "\n",
    "- ssT = ssR + ssE 로, 이때 ssE가 위에서 구한 잔차(residual)의 분산으로 \"잔차제곱합\"이라고 한다.\n",
    "\n",
    "- $\\hat y \\;$(y_hat) : 예측된 값\n",
    "\n",
    "- 예측 값과 실제 값(y)이 일치하면 결정계수는 1이 된다. 즉 **결정계수가 높을 수록 좋은 모델**이다.\n",
    "\n",
    "- R-squared는 회귀 모델의 성능을 평가하는 다양한 지표 중 하나로 통계적인 방식이다.\n",
    "\n",
    "- 머신러닝에서는 예측 성능에 집중하기 때문에 결정계수를 회귀 모델의 성능 지표로 잘 사용하지 않는다."
   ]
  },
  {
   "cell_type": "markdown",
   "metadata": {},
   "source": [
    "#### --▶ numpy로 직접 결정계수 계산"
   ]
  },
  {
   "cell_type": "code",
   "execution_count": 22,
   "metadata": {},
   "outputs": [
    {
     "name": "stdout",
     "output_type": "stream",
     "text": [
      "[1, 3, 4, 6, 5] [1.6 2.7 3.8 4.9 6. ]\n"
     ]
    },
    {
     "data": {
      "text/plain": [
       "0.8175675675675674"
      ]
     },
     "execution_count": 22,
     "metadata": {},
     "output_type": "execute_result"
    }
   ],
   "source": [
    "import numpy as np\n",
    "\n",
    "mu = np.mean(df.y)\n",
    "\n",
    "y = df.y\n",
    "y_hat = lm_model.predict()\n",
    "print(y.values.tolist(), y_hat)\n",
    "\n",
    "np.sum((y_hat - mu)**2) / np.sum((y - mu)**2)"
   ]
  },
  {
   "cell_type": "markdown",
   "metadata": {},
   "source": [
    "#### --▶ 모델로 결정계수 확인"
   ]
  },
  {
   "cell_type": "code",
   "execution_count": 23,
   "metadata": {},
   "outputs": [
    {
     "data": {
      "text/plain": [
       "0.8175675675675675"
      ]
     },
     "execution_count": 23,
     "metadata": {},
     "output_type": "execute_result"
    }
   ],
   "source": [
    "lm_model.rsquared"
   ]
  },
  {
   "cell_type": "markdown",
   "metadata": {},
   "source": [
    "</br>\n",
    "\n",
    "#### --▶ Residue(잔차)의 분포 확인\n",
    "\n",
    "<img src=\"https://github.com/ElaYJ/supplement/assets/153154981/0efe0756-40c6-4517-90e2-32dd5d0dd5f2\" width=\"57%\">"
   ]
  },
  {
   "cell_type": "code",
   "execution_count": 25,
   "metadata": {},
   "outputs": [
    {
     "data": {
      "text/plain": [
       "0   -0.6\n",
       "1    0.3\n",
       "2    0.2\n",
       "3    1.1\n",
       "4   -1.0\n",
       "dtype: float64"
      ]
     },
     "execution_count": 25,
     "metadata": {},
     "output_type": "execute_result"
    }
   ],
   "source": [
    "residual"
   ]
  },
  {
   "cell_type": "code",
   "execution_count": 32,
   "metadata": {},
   "outputs": [
    {
     "data": {
      "text/plain": [
       "<seaborn.axisgrid.FacetGrid at 0x2904944b8b0>"
      ]
     },
     "execution_count": 32,
     "metadata": {},
     "output_type": "execute_result"
    },
    {
     "data": {
      "image/png": "[encoded data removed]",
      "text/plain": [
       "<Figure size 500x500 with 1 Axes>"
      ]
     },
     "metadata": {},
     "output_type": "display_data"
    }
   ],
   "source": [
    "sns.displot(residual)"
   ]
  },
  {
   "cell_type": "code",
   "execution_count": null,
   "metadata": {},
   "outputs": [],
   "source": []
  }
 ],
 "metadata": {
  "kernelspec": {
   "display_name": "ds_study",
   "language": "python",
   "name": "python3"
  },
  "language_info": {
   "codemirror_mode": {
    "name": "ipython",
    "version": 3
   },
   "file_extension": ".py",
   "mimetype": "text/x-python",
   "name": "python",
   "nbconvert_exporter": "python",
   "pygments_lexer": "ipython3",
   "version": "3.8.18"
  }
 },
 "nbformat": 4,
 "nbformat_minor": 2
}
