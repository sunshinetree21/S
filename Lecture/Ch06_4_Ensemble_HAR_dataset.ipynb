{
 "cells": [
  {
   "cell_type": "markdown",
   "metadata": {},
   "source": [
    "# 앙상블 기법 예제"
   ]
  },
  {
   "cell_type": "markdown",
   "metadata": {},
   "source": [
    "\n",
    "# HAR, Human Activity Recognition\n",
    "\n",
    "> IMU 센서(폰에 있는 가속도/자이로 센서 사용)를 활용해서 사람의 행동을 인식하는 실험\n",
    "\n",
    "<img src=\"https://github.com/ElaYJ/supplement/assets/153154981/adde2e85-1ab3-421a-b4f5-6d3f9ac34d9c\" width=\"35%\" height=\"35%\"></br>\n",
    "\n",
    "- [데이터 공식 경로](https://archive.ics.uci.edu/dataset/240/human+activity+recognition+using+smartphones)"
   ]
  },
  {
   "cell_type": "markdown",
   "metadata": {},
   "source": [
    "### --▶ HAR dataset\n",
    "\n",
    "#### 🎫 feature name"
   ]
  },
  {
   "cell_type": "code",
   "execution_count": 2,
   "metadata": {},
   "outputs": [
    {
     "data": {
      "text/html": [
       "<div>\n",
       "<style scoped>\n",
       "    .dataframe tbody tr th:only-of-type {\n",
       "        vertical-align: middle;\n",
       "    }\n",
       "\n",
       "    .dataframe tbody tr th {\n",
       "        vertical-align: top;\n",
       "    }\n",
       "\n",
       "    .dataframe thead th {\n",
       "        text-align: right;\n",
       "    }\n",
       "</style>\n",
       "<table border=\"1\" class=\"dataframe\">\n",
       "  <thead>\n",
       "    <tr style=\"text-align: right;\">\n",
       "      <th></th>\n",
       "      <th>column_index</th>\n",
       "      <th>column_name</th>\n",
       "    </tr>\n",
       "  </thead>\n",
       "  <tbody>\n",
       "    <tr>\n",
       "      <th>0</th>\n",
       "      <td>1</td>\n",
       "      <td>tBodyAcc-mean()-X</td>\n",
       "    </tr>\n",
       "    <tr>\n",
       "      <th>1</th>\n",
       "      <td>2</td>\n",
       "      <td>tBodyAcc-mean()-Y</td>\n",
       "    </tr>\n",
       "    <tr>\n",
       "      <th>2</th>\n",
       "      <td>3</td>\n",
       "      <td>tBodyAcc-mean()-Z</td>\n",
       "    </tr>\n",
       "    <tr>\n",
       "      <th>3</th>\n",
       "      <td>4</td>\n",
       "      <td>tBodyAcc-std()-X</td>\n",
       "    </tr>\n",
       "    <tr>\n",
       "      <th>4</th>\n",
       "      <td>5</td>\n",
       "      <td>tBodyAcc-std()-Y</td>\n",
       "    </tr>\n",
       "    <tr>\n",
       "      <th>...</th>\n",
       "      <td>...</td>\n",
       "      <td>...</td>\n",
       "    </tr>\n",
       "    <tr>\n",
       "      <th>556</th>\n",
       "      <td>557</td>\n",
       "      <td>angle(tBodyGyroMean,gravityMean)</td>\n",
       "    </tr>\n",
       "    <tr>\n",
       "      <th>557</th>\n",
       "      <td>558</td>\n",
       "      <td>angle(tBodyGyroJerkMean,gravityMean)</td>\n",
       "    </tr>\n",
       "    <tr>\n",
       "      <th>558</th>\n",
       "      <td>559</td>\n",
       "      <td>angle(X,gravityMean)</td>\n",
       "    </tr>\n",
       "    <tr>\n",
       "      <th>559</th>\n",
       "      <td>560</td>\n",
       "      <td>angle(Y,gravityMean)</td>\n",
       "    </tr>\n",
       "    <tr>\n",
       "      <th>560</th>\n",
       "      <td>561</td>\n",
       "      <td>angle(Z,gravityMean)</td>\n",
       "    </tr>\n",
       "  </tbody>\n",
       "</table>\n",
       "<p>561 rows × 2 columns</p>\n",
       "</div>"
      ],
      "text/plain": [
       "     column_index                           column_name\n",
       "0               1                     tBodyAcc-mean()-X\n",
       "1               2                     tBodyAcc-mean()-Y\n",
       "2               3                     tBodyAcc-mean()-Z\n",
       "3               4                      tBodyAcc-std()-X\n",
       "4               5                      tBodyAcc-std()-Y\n",
       "..            ...                                   ...\n",
       "556           557      angle(tBodyGyroMean,gravityMean)\n",
       "557           558  angle(tBodyGyroJerkMean,gravityMean)\n",
       "558           559                  angle(X,gravityMean)\n",
       "559           560                  angle(Y,gravityMean)\n",
       "560           561                  angle(Z,gravityMean)\n",
       "\n",
       "[561 rows x 2 columns]"
      ]
     },
     "execution_count": 2,
     "metadata": {},
     "output_type": "execute_result"
    }
   ],
   "source": [
    "import pandas as pd\n",
    "\n",
    "url = \"https://raw.githubusercontent.com/PinkWink/ML_tutorial/master/dataset/HAR_dataset/features.txt\"\n",
    "\n",
    "feature_name_df = pd.read_csv(url, sep='\\s+', header=None, names=['column_index', 'column_name'])\n",
    "feature_name_df\n",
    "#--> 지금은 특성 이름만 읽은 것!\n",
    "#--> 특성만 무려 561개\n",
    "#--> 특성명의 소문자 't'는 시간영역을, 소문자 'f'는 주파수를 의미"
   ]
  },
  {
   "cell_type": "code",
   "execution_count": 10,
   "metadata": {},
   "outputs": [
    {
     "name": "stdout",
     "output_type": "stream",
     "text": [
      "<class 'pandas.core.frame.DataFrame'>\n",
      "RangeIndex: 561 entries, 0 to 560\n",
      "Data columns (total 2 columns):\n",
      " #   Column        Non-Null Count  Dtype \n",
      "---  ------        --------------  ----- \n",
      " 0   column_index  561 non-null    int64 \n",
      " 1   column_name   561 non-null    object\n",
      "dtypes: int64(1), object(1)\n",
      "memory usage: 8.9+ KB\n"
     ]
    }
   ],
   "source": [
    "feature_name_df.info()"
   ]
  },
  {
   "cell_type": "code",
   "execution_count": 3,
   "metadata": {},
   "outputs": [
    {
     "data": {
      "text/plain": [
       "['tBodyAcc-mean()-X',\n",
       " 'tBodyAcc-mean()-Y',\n",
       " 'tBodyAcc-mean()-Z',\n",
       " 'tBodyAcc-std()-X',\n",
       " 'tBodyAcc-std()-Y',\n",
       " 'tBodyAcc-std()-Z',\n",
       " 'tBodyAcc-mad()-X',\n",
       " 'tBodyAcc-mad()-Y',\n",
       " 'tBodyAcc-mad()-Z',\n",
       " 'tBodyAcc-max()-X']"
      ]
     },
     "execution_count": 3,
     "metadata": {},
     "output_type": "execute_result"
    }
   ],
   "source": [
    "feature_name = feature_name_df.iloc[:, 1].values.tolist()\n",
    "feature_name[:10]"
   ]
  },
  {
   "cell_type": "markdown",
   "metadata": {},
   "source": [
    "#### 🎫 X_train, X_test\n",
    "\n",
    "- X_train.txt의 용량이 63MB --> 대용량 데이터를 다루게 됨."
   ]
  },
  {
   "cell_type": "code",
   "execution_count": 4,
   "metadata": {},
   "outputs": [
    {
     "name": "stdout",
     "output_type": "stream",
     "text": [
      "<class 'pandas.core.frame.DataFrame'>\n",
      "RangeIndex: 7352 entries, 0 to 7351\n",
      "Columns: 561 entries, 0 to 560\n",
      "dtypes: float64(561)\n",
      "memory usage: 31.5 MB\n",
      "<class 'pandas.core.frame.DataFrame'>\n",
      "RangeIndex: 2947 entries, 0 to 2946\n",
      "Columns: 561 entries, 0 to 560\n",
      "dtypes: float64(561)\n",
      "memory usage: 12.6 MB\n"
     ]
    }
   ],
   "source": [
    "X_train_url = 'https://raw.githubusercontent.com/PinkWink/ML_tutorial/master/dataset/HAR_dataset/train/X_train.txt'\n",
    "X_test_url = 'https://raw.githubusercontent.com/PinkWink/ML_tutorial/master/dataset/HAR_dataset/test/X_test.txt'\n",
    "\n",
    "X_train = pd.read_csv(X_train_url, sep = '\\s+',header=None)\n",
    "X_test = pd.read_csv(X_test_url, sep = '\\s+',header=None)\n",
    "\n",
    "X_train.info()\n",
    "X_test.info()"
   ]
  },
  {
   "cell_type": "code",
   "execution_count": 5,
   "metadata": {},
   "outputs": [
    {
     "data": {
      "text/html": [
       "<div>\n",
       "<style scoped>\n",
       "    .dataframe tbody tr th:only-of-type {\n",
       "        vertical-align: middle;\n",
       "    }\n",
       "\n",
       "    .dataframe tbody tr th {\n",
       "        vertical-align: top;\n",
       "    }\n",
       "\n",
       "    .dataframe thead th {\n",
       "        text-align: right;\n",
       "    }\n",
       "</style>\n",
       "<table border=\"1\" class=\"dataframe\">\n",
       "  <thead>\n",
       "    <tr style=\"text-align: right;\">\n",
       "      <th></th>\n",
       "      <th>tBodyAcc-mean()-X</th>\n",
       "      <th>tBodyAcc-mean()-Y</th>\n",
       "      <th>tBodyAcc-mean()-Z</th>\n",
       "      <th>tBodyAcc-std()-X</th>\n",
       "      <th>tBodyAcc-std()-Y</th>\n",
       "      <th>tBodyAcc-std()-Z</th>\n",
       "      <th>tBodyAcc-mad()-X</th>\n",
       "      <th>tBodyAcc-mad()-Y</th>\n",
       "      <th>tBodyAcc-mad()-Z</th>\n",
       "      <th>tBodyAcc-max()-X</th>\n",
       "      <th>...</th>\n",
       "      <th>fBodyBodyGyroJerkMag-meanFreq()</th>\n",
       "      <th>fBodyBodyGyroJerkMag-skewness()</th>\n",
       "      <th>fBodyBodyGyroJerkMag-kurtosis()</th>\n",
       "      <th>angle(tBodyAccMean,gravity)</th>\n",
       "      <th>angle(tBodyAccJerkMean),gravityMean)</th>\n",
       "      <th>angle(tBodyGyroMean,gravityMean)</th>\n",
       "      <th>angle(tBodyGyroJerkMean,gravityMean)</th>\n",
       "      <th>angle(X,gravityMean)</th>\n",
       "      <th>angle(Y,gravityMean)</th>\n",
       "      <th>angle(Z,gravityMean)</th>\n",
       "    </tr>\n",
       "  </thead>\n",
       "  <tbody>\n",
       "    <tr>\n",
       "      <th>0</th>\n",
       "      <td>0.288585</td>\n",
       "      <td>-0.020294</td>\n",
       "      <td>-0.132905</td>\n",
       "      <td>-0.995279</td>\n",
       "      <td>-0.983111</td>\n",
       "      <td>-0.913526</td>\n",
       "      <td>-0.995112</td>\n",
       "      <td>-0.983185</td>\n",
       "      <td>-0.923527</td>\n",
       "      <td>-0.934724</td>\n",
       "      <td>...</td>\n",
       "      <td>-0.074323</td>\n",
       "      <td>-0.298676</td>\n",
       "      <td>-0.710304</td>\n",
       "      <td>-0.112754</td>\n",
       "      <td>0.030400</td>\n",
       "      <td>-0.464761</td>\n",
       "      <td>-0.018446</td>\n",
       "      <td>-0.841247</td>\n",
       "      <td>0.179941</td>\n",
       "      <td>-0.058627</td>\n",
       "    </tr>\n",
       "    <tr>\n",
       "      <th>1</th>\n",
       "      <td>0.278419</td>\n",
       "      <td>-0.016411</td>\n",
       "      <td>-0.123520</td>\n",
       "      <td>-0.998245</td>\n",
       "      <td>-0.975300</td>\n",
       "      <td>-0.960322</td>\n",
       "      <td>-0.998807</td>\n",
       "      <td>-0.974914</td>\n",
       "      <td>-0.957686</td>\n",
       "      <td>-0.943068</td>\n",
       "      <td>...</td>\n",
       "      <td>0.158075</td>\n",
       "      <td>-0.595051</td>\n",
       "      <td>-0.861499</td>\n",
       "      <td>0.053477</td>\n",
       "      <td>-0.007435</td>\n",
       "      <td>-0.732626</td>\n",
       "      <td>0.703511</td>\n",
       "      <td>-0.844788</td>\n",
       "      <td>0.180289</td>\n",
       "      <td>-0.054317</td>\n",
       "    </tr>\n",
       "    <tr>\n",
       "      <th>2</th>\n",
       "      <td>0.279653</td>\n",
       "      <td>-0.019467</td>\n",
       "      <td>-0.113462</td>\n",
       "      <td>-0.995380</td>\n",
       "      <td>-0.967187</td>\n",
       "      <td>-0.978944</td>\n",
       "      <td>-0.996520</td>\n",
       "      <td>-0.963668</td>\n",
       "      <td>-0.977469</td>\n",
       "      <td>-0.938692</td>\n",
       "      <td>...</td>\n",
       "      <td>0.414503</td>\n",
       "      <td>-0.390748</td>\n",
       "      <td>-0.760104</td>\n",
       "      <td>-0.118559</td>\n",
       "      <td>0.177899</td>\n",
       "      <td>0.100699</td>\n",
       "      <td>0.808529</td>\n",
       "      <td>-0.848933</td>\n",
       "      <td>0.180637</td>\n",
       "      <td>-0.049118</td>\n",
       "    </tr>\n",
       "    <tr>\n",
       "      <th>3</th>\n",
       "      <td>0.279174</td>\n",
       "      <td>-0.026201</td>\n",
       "      <td>-0.123283</td>\n",
       "      <td>-0.996091</td>\n",
       "      <td>-0.983403</td>\n",
       "      <td>-0.990675</td>\n",
       "      <td>-0.997099</td>\n",
       "      <td>-0.982750</td>\n",
       "      <td>-0.989302</td>\n",
       "      <td>-0.938692</td>\n",
       "      <td>...</td>\n",
       "      <td>0.404573</td>\n",
       "      <td>-0.117290</td>\n",
       "      <td>-0.482845</td>\n",
       "      <td>-0.036788</td>\n",
       "      <td>-0.012892</td>\n",
       "      <td>0.640011</td>\n",
       "      <td>-0.485366</td>\n",
       "      <td>-0.848649</td>\n",
       "      <td>0.181935</td>\n",
       "      <td>-0.047663</td>\n",
       "    </tr>\n",
       "    <tr>\n",
       "      <th>4</th>\n",
       "      <td>0.276629</td>\n",
       "      <td>-0.016570</td>\n",
       "      <td>-0.115362</td>\n",
       "      <td>-0.998139</td>\n",
       "      <td>-0.980817</td>\n",
       "      <td>-0.990482</td>\n",
       "      <td>-0.998321</td>\n",
       "      <td>-0.979672</td>\n",
       "      <td>-0.990441</td>\n",
       "      <td>-0.942469</td>\n",
       "      <td>...</td>\n",
       "      <td>0.087753</td>\n",
       "      <td>-0.351471</td>\n",
       "      <td>-0.699205</td>\n",
       "      <td>0.123320</td>\n",
       "      <td>0.122542</td>\n",
       "      <td>0.693578</td>\n",
       "      <td>-0.615971</td>\n",
       "      <td>-0.847865</td>\n",
       "      <td>0.185151</td>\n",
       "      <td>-0.043892</td>\n",
       "    </tr>\n",
       "    <tr>\n",
       "      <th>...</th>\n",
       "      <td>...</td>\n",
       "      <td>...</td>\n",
       "      <td>...</td>\n",
       "      <td>...</td>\n",
       "      <td>...</td>\n",
       "      <td>...</td>\n",
       "      <td>...</td>\n",
       "      <td>...</td>\n",
       "      <td>...</td>\n",
       "      <td>...</td>\n",
       "      <td>...</td>\n",
       "      <td>...</td>\n",
       "      <td>...</td>\n",
       "      <td>...</td>\n",
       "      <td>...</td>\n",
       "      <td>...</td>\n",
       "      <td>...</td>\n",
       "      <td>...</td>\n",
       "      <td>...</td>\n",
       "      <td>...</td>\n",
       "      <td>...</td>\n",
       "    </tr>\n",
       "    <tr>\n",
       "      <th>7347</th>\n",
       "      <td>0.299665</td>\n",
       "      <td>-0.057193</td>\n",
       "      <td>-0.181233</td>\n",
       "      <td>-0.195387</td>\n",
       "      <td>0.039905</td>\n",
       "      <td>0.077078</td>\n",
       "      <td>-0.282301</td>\n",
       "      <td>0.043616</td>\n",
       "      <td>0.060410</td>\n",
       "      <td>0.210795</td>\n",
       "      <td>...</td>\n",
       "      <td>-0.070157</td>\n",
       "      <td>-0.588433</td>\n",
       "      <td>-0.880324</td>\n",
       "      <td>-0.190437</td>\n",
       "      <td>0.829718</td>\n",
       "      <td>0.206972</td>\n",
       "      <td>-0.425619</td>\n",
       "      <td>-0.791883</td>\n",
       "      <td>0.238604</td>\n",
       "      <td>0.049819</td>\n",
       "    </tr>\n",
       "    <tr>\n",
       "      <th>7348</th>\n",
       "      <td>0.273853</td>\n",
       "      <td>-0.007749</td>\n",
       "      <td>-0.147468</td>\n",
       "      <td>-0.235309</td>\n",
       "      <td>0.004816</td>\n",
       "      <td>0.059280</td>\n",
       "      <td>-0.322552</td>\n",
       "      <td>-0.029456</td>\n",
       "      <td>0.080585</td>\n",
       "      <td>0.117440</td>\n",
       "      <td>...</td>\n",
       "      <td>0.165259</td>\n",
       "      <td>-0.390738</td>\n",
       "      <td>-0.680744</td>\n",
       "      <td>0.064907</td>\n",
       "      <td>0.875679</td>\n",
       "      <td>-0.879033</td>\n",
       "      <td>0.400219</td>\n",
       "      <td>-0.771840</td>\n",
       "      <td>0.252676</td>\n",
       "      <td>0.050053</td>\n",
       "    </tr>\n",
       "    <tr>\n",
       "      <th>7349</th>\n",
       "      <td>0.273387</td>\n",
       "      <td>-0.017011</td>\n",
       "      <td>-0.045022</td>\n",
       "      <td>-0.218218</td>\n",
       "      <td>-0.103822</td>\n",
       "      <td>0.274533</td>\n",
       "      <td>-0.304515</td>\n",
       "      <td>-0.098913</td>\n",
       "      <td>0.332584</td>\n",
       "      <td>0.043999</td>\n",
       "      <td>...</td>\n",
       "      <td>0.195034</td>\n",
       "      <td>0.025145</td>\n",
       "      <td>-0.304029</td>\n",
       "      <td>0.052806</td>\n",
       "      <td>-0.266724</td>\n",
       "      <td>0.864404</td>\n",
       "      <td>0.701169</td>\n",
       "      <td>-0.779133</td>\n",
       "      <td>0.249145</td>\n",
       "      <td>0.040811</td>\n",
       "    </tr>\n",
       "    <tr>\n",
       "      <th>7350</th>\n",
       "      <td>0.289654</td>\n",
       "      <td>-0.018843</td>\n",
       "      <td>-0.158281</td>\n",
       "      <td>-0.219139</td>\n",
       "      <td>-0.111412</td>\n",
       "      <td>0.268893</td>\n",
       "      <td>-0.310487</td>\n",
       "      <td>-0.068200</td>\n",
       "      <td>0.319473</td>\n",
       "      <td>0.101702</td>\n",
       "      <td>...</td>\n",
       "      <td>0.013865</td>\n",
       "      <td>0.063907</td>\n",
       "      <td>-0.344314</td>\n",
       "      <td>-0.101360</td>\n",
       "      <td>0.700740</td>\n",
       "      <td>0.936674</td>\n",
       "      <td>-0.589479</td>\n",
       "      <td>-0.785181</td>\n",
       "      <td>0.246432</td>\n",
       "      <td>0.025339</td>\n",
       "    </tr>\n",
       "    <tr>\n",
       "      <th>7351</th>\n",
       "      <td>0.351503</td>\n",
       "      <td>-0.012423</td>\n",
       "      <td>-0.203867</td>\n",
       "      <td>-0.269270</td>\n",
       "      <td>-0.087212</td>\n",
       "      <td>0.177404</td>\n",
       "      <td>-0.377404</td>\n",
       "      <td>-0.038678</td>\n",
       "      <td>0.229430</td>\n",
       "      <td>0.269013</td>\n",
       "      <td>...</td>\n",
       "      <td>-0.058402</td>\n",
       "      <td>-0.387052</td>\n",
       "      <td>-0.740738</td>\n",
       "      <td>-0.280088</td>\n",
       "      <td>-0.007739</td>\n",
       "      <td>-0.056088</td>\n",
       "      <td>-0.616956</td>\n",
       "      <td>-0.783267</td>\n",
       "      <td>0.246809</td>\n",
       "      <td>0.036695</td>\n",
       "    </tr>\n",
       "  </tbody>\n",
       "</table>\n",
       "<p>7352 rows × 561 columns</p>\n",
       "</div>"
      ],
      "text/plain": [
       "      tBodyAcc-mean()-X  tBodyAcc-mean()-Y  tBodyAcc-mean()-Z  \\\n",
       "0              0.288585          -0.020294          -0.132905   \n",
       "1              0.278419          -0.016411          -0.123520   \n",
       "2              0.279653          -0.019467          -0.113462   \n",
       "3              0.279174          -0.026201          -0.123283   \n",
       "4              0.276629          -0.016570          -0.115362   \n",
       "...                 ...                ...                ...   \n",
       "7347           0.299665          -0.057193          -0.181233   \n",
       "7348           0.273853          -0.007749          -0.147468   \n",
       "7349           0.273387          -0.017011          -0.045022   \n",
       "7350           0.289654          -0.018843          -0.158281   \n",
       "7351           0.351503          -0.012423          -0.203867   \n",
       "\n",
       "      tBodyAcc-std()-X  tBodyAcc-std()-Y  tBodyAcc-std()-Z  tBodyAcc-mad()-X  \\\n",
       "0            -0.995279         -0.983111         -0.913526         -0.995112   \n",
       "1            -0.998245         -0.975300         -0.960322         -0.998807   \n",
       "2            -0.995380         -0.967187         -0.978944         -0.996520   \n",
       "3            -0.996091         -0.983403         -0.990675         -0.997099   \n",
       "4            -0.998139         -0.980817         -0.990482         -0.998321   \n",
       "...                ...               ...               ...               ...   \n",
       "7347         -0.195387          0.039905          0.077078         -0.282301   \n",
       "7348         -0.235309          0.004816          0.059280         -0.322552   \n",
       "7349         -0.218218         -0.103822          0.274533         -0.304515   \n",
       "7350         -0.219139         -0.111412          0.268893         -0.310487   \n",
       "7351         -0.269270         -0.087212          0.177404         -0.377404   \n",
       "\n",
       "      tBodyAcc-mad()-Y  tBodyAcc-mad()-Z  tBodyAcc-max()-X  ...  \\\n",
       "0            -0.983185         -0.923527         -0.934724  ...   \n",
       "1            -0.974914         -0.957686         -0.943068  ...   \n",
       "2            -0.963668         -0.977469         -0.938692  ...   \n",
       "3            -0.982750         -0.989302         -0.938692  ...   \n",
       "4            -0.979672         -0.990441         -0.942469  ...   \n",
       "...                ...               ...               ...  ...   \n",
       "7347          0.043616          0.060410          0.210795  ...   \n",
       "7348         -0.029456          0.080585          0.117440  ...   \n",
       "7349         -0.098913          0.332584          0.043999  ...   \n",
       "7350         -0.068200          0.319473          0.101702  ...   \n",
       "7351         -0.038678          0.229430          0.269013  ...   \n",
       "\n",
       "      fBodyBodyGyroJerkMag-meanFreq()  fBodyBodyGyroJerkMag-skewness()  \\\n",
       "0                           -0.074323                        -0.298676   \n",
       "1                            0.158075                        -0.595051   \n",
       "2                            0.414503                        -0.390748   \n",
       "3                            0.404573                        -0.117290   \n",
       "4                            0.087753                        -0.351471   \n",
       "...                               ...                              ...   \n",
       "7347                        -0.070157                        -0.588433   \n",
       "7348                         0.165259                        -0.390738   \n",
       "7349                         0.195034                         0.025145   \n",
       "7350                         0.013865                         0.063907   \n",
       "7351                        -0.058402                        -0.387052   \n",
       "\n",
       "      fBodyBodyGyroJerkMag-kurtosis()  angle(tBodyAccMean,gravity)  \\\n",
       "0                           -0.710304                    -0.112754   \n",
       "1                           -0.861499                     0.053477   \n",
       "2                           -0.760104                    -0.118559   \n",
       "3                           -0.482845                    -0.036788   \n",
       "4                           -0.699205                     0.123320   \n",
       "...                               ...                          ...   \n",
       "7347                        -0.880324                    -0.190437   \n",
       "7348                        -0.680744                     0.064907   \n",
       "7349                        -0.304029                     0.052806   \n",
       "7350                        -0.344314                    -0.101360   \n",
       "7351                        -0.740738                    -0.280088   \n",
       "\n",
       "      angle(tBodyAccJerkMean),gravityMean)  angle(tBodyGyroMean,gravityMean)  \\\n",
       "0                                 0.030400                         -0.464761   \n",
       "1                                -0.007435                         -0.732626   \n",
       "2                                 0.177899                          0.100699   \n",
       "3                                -0.012892                          0.640011   \n",
       "4                                 0.122542                          0.693578   \n",
       "...                                    ...                               ...   \n",
       "7347                              0.829718                          0.206972   \n",
       "7348                              0.875679                         -0.879033   \n",
       "7349                             -0.266724                          0.864404   \n",
       "7350                              0.700740                          0.936674   \n",
       "7351                             -0.007739                         -0.056088   \n",
       "\n",
       "      angle(tBodyGyroJerkMean,gravityMean)  angle(X,gravityMean)  \\\n",
       "0                                -0.018446             -0.841247   \n",
       "1                                 0.703511             -0.844788   \n",
       "2                                 0.808529             -0.848933   \n",
       "3                                -0.485366             -0.848649   \n",
       "4                                -0.615971             -0.847865   \n",
       "...                                    ...                   ...   \n",
       "7347                             -0.425619             -0.791883   \n",
       "7348                              0.400219             -0.771840   \n",
       "7349                              0.701169             -0.779133   \n",
       "7350                             -0.589479             -0.785181   \n",
       "7351                             -0.616956             -0.783267   \n",
       "\n",
       "      angle(Y,gravityMean)  angle(Z,gravityMean)  \n",
       "0                 0.179941             -0.058627  \n",
       "1                 0.180289             -0.054317  \n",
       "2                 0.180637             -0.049118  \n",
       "3                 0.181935             -0.047663  \n",
       "4                 0.185151             -0.043892  \n",
       "...                    ...                   ...  \n",
       "7347              0.238604              0.049819  \n",
       "7348              0.252676              0.050053  \n",
       "7349              0.249145              0.040811  \n",
       "7350              0.246432              0.025339  \n",
       "7351              0.246809              0.036695  \n",
       "\n",
       "[7352 rows x 561 columns]"
      ]
     },
     "execution_count": 5,
     "metadata": {},
     "output_type": "execute_result"
    }
   ],
   "source": [
    "X_train.columns = feature_name\n",
    "X_test.columns = feature_name\n",
    "\n",
    "X_train"
   ]
  },
  {
   "cell_type": "markdown",
   "metadata": {},
   "source": [
    "#### 🎫 y_train, y_test"
   ]
  },
  {
   "cell_type": "code",
   "execution_count": 6,
   "metadata": {},
   "outputs": [],
   "source": [
    "y_train_url = 'https://raw.githubusercontent.com/PinkWink/ML_tutorial/master/dataset/HAR_dataset/train/y_train.txt'\n",
    "y_test_url = 'https://raw.githubusercontent.com/PinkWink/ML_tutorial/master/dataset/HAR_dataset/test/y_test.txt'\n",
    "\n",
    "y_train = pd.read_csv(y_train_url, sep='\\s+', header=None, names=['action'])\n",
    "y_test = pd.read_csv(y_test_url, sep='\\s+', header=None, names=['action'])"
   ]
  },
  {
   "cell_type": "code",
   "execution_count": 7,
   "metadata": {},
   "outputs": [
    {
     "data": {
      "text/plain": [
       "((7352, 561), (2947, 561), (7352, 1), (2947, 1))"
      ]
     },
     "execution_count": 7,
     "metadata": {},
     "output_type": "execute_result"
    }
   ],
   "source": [
    "X_train.shape, X_test.shape, y_train.shape, y_test.shape"
   ]
  },
  {
   "cell_type": "markdown",
   "metadata": {},
   "source": [
    "#### 🎫 각 액션 별 데이터의 수\n",
    "\n",
    "- 각 라벨 별 정의\n",
    "\n",
    "\t<img src=\"https://github.com/ElaYJ/supplement/assets/153154981/2d724082-28b0-4661-a573-67d0c455e2d0\" width=\"50%\" height=\"50%\">"
   ]
  },
  {
   "cell_type": "code",
   "execution_count": 8,
   "metadata": {},
   "outputs": [
    {
     "data": {
      "text/plain": [
       "action\n",
       "6    1407\n",
       "5    1374\n",
       "4    1286\n",
       "1    1226\n",
       "2    1073\n",
       "3     986\n",
       "Name: count, dtype: int64"
      ]
     },
     "execution_count": 8,
     "metadata": {},
     "output_type": "execute_result"
    }
   ],
   "source": [
    "y_train['action'].value_counts() #--> 라벨의 개수에 차이가 나는 Inbalance Data이다."
   ]
  },
  {
   "cell_type": "markdown",
   "metadata": {},
   "source": [
    "</br>\n",
    "\n",
    "### --▶ Decision Tree"
   ]
  },
  {
   "cell_type": "code",
   "execution_count": 9,
   "metadata": {},
   "outputs": [
    {
     "data": {
      "text/plain": [
       "0.8096369189005769"
      ]
     },
     "execution_count": 9,
     "metadata": {},
     "output_type": "execute_result"
    }
   ],
   "source": [
    "from sklearn.tree import DecisionTreeClassifier\n",
    "from sklearn.metrics import accuracy_score\n",
    "\n",
    "dt_clf = DecisionTreeClassifier(max_depth=4, random_state=13)\n",
    "dt_clf.fit(X_train, y_train)\n",
    "pred = dt_clf.predict(X_test)\n",
    "\n",
    "accuracy_score(y_test, pred)"
   ]
  },
  {
   "cell_type": "markdown",
   "metadata": {},
   "source": [
    "#### 🎫 GridSearchCV\n",
    "\n",
    "- Train Dataset에 다양한 max_depth를 적용하기 위해 GridSearchCV를 이용한다.\n",
    "\n",
    "- max_depth별로 표로 성능을 정리한다."
   ]
  },
  {
   "cell_type": "markdown",
   "metadata": {},
   "source": [
    "🔰 Train Data\n",
    "\n",
    "⭐ `grid_cv.best_score_`\n",
    "\n",
    "- best_score는 Train Data를 cv(k-fold) = 5 등분하여\n",
    "- 그 중 하나를 Test Data로 활용했을 때의 정확도가 가장 좋은 값을 의미한다.\n",
    "- 이 값은 Training Data의 Cross Validation(cv, 교차검정) Score이다.\n",
    "- 이 값으로 Best Model은 찾아서 실제 Test Data를 적용했을 때의 정확도(Test_Label vs Predict_Val)를 파악해야 한다."
   ]
  },
  {
   "cell_type": "code",
   "execution_count": 11,
   "metadata": {},
   "outputs": [
    {
     "data": {
      "text/html": [
       "<style>#sk-container-id-1 {color: black;}#sk-container-id-1 pre{padding: 0;}#sk-container-id-1 div.sk-toggleable {background-color: white;}#sk-container-id-1 label.sk-toggleable__label {cursor: pointer;display: block;width: 100%;margin-bottom: 0;padding: 0.3em;box-sizing: border-box;text-align: center;}#sk-container-id-1 label.sk-toggleable__label-arrow:before {content: \"▸\";float: left;margin-right: 0.25em;color: #696969;}#sk-container-id-1 label.sk-toggleable__label-arrow:hover:before {color: black;}#sk-container-id-1 div.sk-estimator:hover label.sk-toggleable__label-arrow:before {color: black;}#sk-container-id-1 div.sk-toggleable__content {max-height: 0;max-width: 0;overflow: hidden;text-align: left;background-color: #f0f8ff;}#sk-container-id-1 div.sk-toggleable__content pre {margin: 0.2em;color: black;border-radius: 0.25em;background-color: #f0f8ff;}#sk-container-id-1 input.sk-toggleable__control:checked~div.sk-toggleable__content {max-height: 200px;max-width: 100%;overflow: auto;}#sk-container-id-1 input.sk-toggleable__control:checked~label.sk-toggleable__label-arrow:before {content: \"▾\";}#sk-container-id-1 div.sk-estimator input.sk-toggleable__control:checked~label.sk-toggleable__label {background-color: #d4ebff;}#sk-container-id-1 div.sk-label input.sk-toggleable__control:checked~label.sk-toggleable__label {background-color: #d4ebff;}#sk-container-id-1 input.sk-hidden--visually {border: 0;clip: rect(1px 1px 1px 1px);clip: rect(1px, 1px, 1px, 1px);height: 1px;margin: -1px;overflow: hidden;padding: 0;position: absolute;width: 1px;}#sk-container-id-1 div.sk-estimator {font-family: monospace;background-color: #f0f8ff;border: 1px dotted black;border-radius: 0.25em;box-sizing: border-box;margin-bottom: 0.5em;}#sk-container-id-1 div.sk-estimator:hover {background-color: #d4ebff;}#sk-container-id-1 div.sk-parallel-item::after {content: \"\";width: 100%;border-bottom: 1px solid gray;flex-grow: 1;}#sk-container-id-1 div.sk-label:hover label.sk-toggleable__label {background-color: #d4ebff;}#sk-container-id-1 div.sk-serial::before {content: \"\";position: absolute;border-left: 1px solid gray;box-sizing: border-box;top: 0;bottom: 0;left: 50%;z-index: 0;}#sk-container-id-1 div.sk-serial {display: flex;flex-direction: column;align-items: center;background-color: white;padding-right: 0.2em;padding-left: 0.2em;position: relative;}#sk-container-id-1 div.sk-item {position: relative;z-index: 1;}#sk-container-id-1 div.sk-parallel {display: flex;align-items: stretch;justify-content: center;background-color: white;position: relative;}#sk-container-id-1 div.sk-item::before, #sk-container-id-1 div.sk-parallel-item::before {content: \"\";position: absolute;border-left: 1px solid gray;box-sizing: border-box;top: 0;bottom: 0;left: 50%;z-index: -1;}#sk-container-id-1 div.sk-parallel-item {display: flex;flex-direction: column;z-index: 1;position: relative;background-color: white;}#sk-container-id-1 div.sk-parallel-item:first-child::after {align-self: flex-end;width: 50%;}#sk-container-id-1 div.sk-parallel-item:last-child::after {align-self: flex-start;width: 50%;}#sk-container-id-1 div.sk-parallel-item:only-child::after {width: 0;}#sk-container-id-1 div.sk-dashed-wrapped {border: 1px dashed gray;margin: 0 0.4em 0.5em 0.4em;box-sizing: border-box;padding-bottom: 0.4em;background-color: white;}#sk-container-id-1 div.sk-label label {font-family: monospace;font-weight: bold;display: inline-block;line-height: 1.2em;}#sk-container-id-1 div.sk-label-container {text-align: center;}#sk-container-id-1 div.sk-container {/* jupyter's `normalize.less` sets `[hidden] { display: none; }` but bootstrap.min.css set `[hidden] { display: none !important; }` so we also need the `!important` here to be able to override the default hidden behavior on the sphinx rendered scikit-learn.org. See: https://github.com/scikit-learn/scikit-learn/issues/21755 */display: inline-block !important;position: relative;}#sk-container-id-1 div.sk-text-repr-fallback {display: none;}</style><div id=\"sk-container-id-1\" class=\"sk-top-container\"><div class=\"sk-text-repr-fallback\"><pre>GridSearchCV(cv=5,\n",
       "             estimator=DecisionTreeClassifier(max_depth=4, random_state=13),\n",
       "             param_grid={&#x27;max_depth&#x27;: [6, 8, 10, 12, 16, 20, 24]},\n",
       "             return_train_score=True, scoring=&#x27;accuracy&#x27;)</pre><b>In a Jupyter environment, please rerun this cell to show the HTML representation or trust the notebook. <br />On GitHub, the HTML representation is unable to render, please try loading this page with nbviewer.org.</b></div><div class=\"sk-container\" hidden><div class=\"sk-item sk-dashed-wrapped\"><div class=\"sk-label-container\"><div class=\"sk-label sk-toggleable\"><input class=\"sk-toggleable__control sk-hidden--visually\" id=\"sk-estimator-id-1\" type=\"checkbox\" ><label for=\"sk-estimator-id-1\" class=\"sk-toggleable__label sk-toggleable__label-arrow\">GridSearchCV</label><div class=\"sk-toggleable__content\"><pre>GridSearchCV(cv=5,\n",
       "             estimator=DecisionTreeClassifier(max_depth=4, random_state=13),\n",
       "             param_grid={&#x27;max_depth&#x27;: [6, 8, 10, 12, 16, 20, 24]},\n",
       "             return_train_score=True, scoring=&#x27;accuracy&#x27;)</pre></div></div></div><div class=\"sk-parallel\"><div class=\"sk-parallel-item\"><div class=\"sk-item\"><div class=\"sk-label-container\"><div class=\"sk-label sk-toggleable\"><input class=\"sk-toggleable__control sk-hidden--visually\" id=\"sk-estimator-id-2\" type=\"checkbox\" ><label for=\"sk-estimator-id-2\" class=\"sk-toggleable__label sk-toggleable__label-arrow\">estimator: DecisionTreeClassifier</label><div class=\"sk-toggleable__content\"><pre>DecisionTreeClassifier(max_depth=4, random_state=13)</pre></div></div></div><div class=\"sk-serial\"><div class=\"sk-item\"><div class=\"sk-estimator sk-toggleable\"><input class=\"sk-toggleable__control sk-hidden--visually\" id=\"sk-estimator-id-3\" type=\"checkbox\" ><label for=\"sk-estimator-id-3\" class=\"sk-toggleable__label sk-toggleable__label-arrow\">DecisionTreeClassifier</label><div class=\"sk-toggleable__content\"><pre>DecisionTreeClassifier(max_depth=4, random_state=13)</pre></div></div></div></div></div></div></div></div></div></div>"
      ],
      "text/plain": [
       "GridSearchCV(cv=5,\n",
       "             estimator=DecisionTreeClassifier(max_depth=4, random_state=13),\n",
       "             param_grid={'max_depth': [6, 8, 10, 12, 16, 20, 24]},\n",
       "             return_train_score=True, scoring='accuracy')"
      ]
     },
     "execution_count": 11,
     "metadata": {},
     "output_type": "execute_result"
    }
   ],
   "source": [
    "from sklearn.model_selection import GridSearchCV\n",
    "\n",
    "params = {'max_depth': [6, 8, 10, 12, 16, 20, 24]}\n",
    "\n",
    "grid_cv = GridSearchCV(dt_clf, param_grid=params, cv=5, scoring='accuracy', return_train_score=True)\n",
    "#--> cv= 옵션은 cross validation(교차검정)의 k-fold 값 설정이다.\n",
    "\n",
    "grid_cv.fit(X_train, y_train)"
   ]
  },
  {
   "cell_type": "code",
   "execution_count": 12,
   "metadata": {},
   "outputs": [
    {
     "data": {
      "text/plain": [
       "(0.8543335321892183, {'max_depth': 8})"
      ]
     },
     "execution_count": 12,
     "metadata": {},
     "output_type": "execute_result"
    }
   ],
   "source": [
    "grid_cv.best_score_, grid_cv.best_params_\n",
    "#--> best_score는 Train Data를 cv(k-fold) = 5 등분하여\n",
    "#--> 그 중 하나를 Test Data로 활용했을 때의 정확도가 가장 좋은 값을 의미한다.\n",
    "#--> 이 값은 Training Data의 Cross Validation(cv, 교차검정) Score이다.\n",
    "#--> 이 값으로 Best Model은 찾아서 실제 Test Data를 적용했을 때의 정확도(Test_Label vs Predict_Val)를 파악해야 한다."
   ]
  },
  {
   "cell_type": "code",
   "execution_count": 13,
   "metadata": {},
   "outputs": [
    {
     "data": {
      "text/plain": [
       "{'mean_fit_time': array([4.87584877, 6.43434486, 7.53504448, 8.08205194, 8.99414701,\n",
       "        9.25742359, 8.96462326]),\n",
       " 'std_fit_time': array([0.05871979, 0.13690268, 0.19863991, 0.66578951, 0.78867695,\n",
       "        1.15864541, 0.70975002]),\n",
       " 'mean_score_time': array([0.01528654, 0.01303911, 0.01299481, 0.01115513, 0.01098695,\n",
       "        0.0121635 , 0.01115446]),\n",
       " 'std_score_time': array([0.00283976, 0.00168912, 0.00073538, 0.00147932, 0.00166698,\n",
       "        0.00160116, 0.00145004]),\n",
       " 'param_max_depth': masked_array(data=[6, 8, 10, 12, 16, 20, 24],\n",
       "              mask=[False, False, False, False, False, False, False],\n",
       "        fill_value='?',\n",
       "             dtype=object),\n",
       " 'params': [{'max_depth': 6},\n",
       "  {'max_depth': 8},\n",
       "  {'max_depth': 10},\n",
       "  {'max_depth': 12},\n",
       "  {'max_depth': 16},\n",
       "  {'max_depth': 20},\n",
       "  {'max_depth': 24}],\n",
       " 'split0_test_score': array([0.81509177, 0.82324949, 0.81781101, 0.79401768, 0.79469748,\n",
       "        0.8028552 , 0.80013596]),\n",
       " 'split1_test_score': array([0.86811693, 0.82528892, 0.81373215, 0.81237254, 0.81237254,\n",
       "        0.81237254, 0.81237254]),\n",
       " 'split2_test_score': array([0.79931973, 0.8462585 , 0.82993197, 0.83877551, 0.83741497,\n",
       "        0.83537415, 0.83537415]),\n",
       " 'split3_test_score': array([0.86462585, 0.87278912, 0.8829932 , 0.87959184, 0.87959184,\n",
       "        0.87687075, 0.87687075]),\n",
       " 'split4_test_score': array([0.87006803, 0.90408163, 0.89115646, 0.88503401, 0.88571429,\n",
       "        0.88435374, 0.88435374]),\n",
       " 'mean_test_score': array([0.84344446, 0.85433353, 0.84712496, 0.84195831, 0.84195822,\n",
       "        0.84236528, 0.84182143]),\n",
       " 'std_test_score': array([0.03005682, 0.0306284 , 0.03315204, 0.03593202, 0.03594555,\n",
       "        0.03305494, 0.03371627]),\n",
       " 'rank_test_score': array([3, 1, 2, 5, 6, 4, 7]),\n",
       " 'split0_train_score': array([0.96327155, 0.98588675, 0.99234824, 0.99557898, 0.99897977,\n",
       "        0.99982996, 1.        ]),\n",
       " 'split1_train_score': array([0.939126  , 0.98537664, 0.99591906, 0.99863969, 1.        ,\n",
       "        1.        , 1.        ]),\n",
       " 'split2_train_score': array([0.94593676, 0.98452907, 0.99438966, 0.99778987, 0.99982999,\n",
       "        1.        , 1.        ]),\n",
       " 'split3_train_score': array([0.93182591, 0.97755865, 0.99268956, 0.99778987, 0.99965998,\n",
       "        1.        , 1.        ]),\n",
       " 'split4_train_score': array([0.94423665, 0.98010881, 0.99149949, 0.99625978, 0.99982999,\n",
       "        1.        , 1.        ]),\n",
       " 'mean_train_score': array([0.94487937, 0.98269198, 0.9933692 , 0.99721164, 0.99965994,\n",
       "        0.99996599, 1.        ]),\n",
       " 'std_train_score': array([1.04239880e-02, 3.28063085e-03, 1.58387007e-03, 1.12068074e-03,\n",
       "        3.56682557e-04, 6.80156436e-05, 0.00000000e+00])}"
      ]
     },
     "execution_count": 13,
     "metadata": {},
     "output_type": "execute_result"
    }
   ],
   "source": [
    "grid_cv.cv_results_"
   ]
  },
  {
   "cell_type": "code",
   "execution_count": 14,
   "metadata": {},
   "outputs": [
    {
     "data": {
      "text/plain": [
       "Index(['mean_fit_time', 'std_fit_time', 'mean_score_time', 'std_score_time',\n",
       "       'param_max_depth', 'params', 'split0_test_score', 'split1_test_score',\n",
       "       'split2_test_score', 'split3_test_score', 'split4_test_score',\n",
       "       'mean_test_score', 'std_test_score', 'rank_test_score',\n",
       "       'split0_train_score', 'split1_train_score', 'split2_train_score',\n",
       "       'split3_train_score', 'split4_train_score', 'mean_train_score',\n",
       "       'std_train_score'],\n",
       "      dtype='object')"
      ]
     },
     "execution_count": 14,
     "metadata": {},
     "output_type": "execute_result"
    }
   ],
   "source": [
    "cv_results_df = pd.DataFrame(grid_cv.cv_results_)\n",
    "cv_results_df.columns"
   ]
  },
  {
   "cell_type": "code",
   "execution_count": 19,
   "metadata": {},
   "outputs": [
    {
     "data": {
      "text/html": [
       "<div>\n",
       "<style scoped>\n",
       "    .dataframe tbody tr th:only-of-type {\n",
       "        vertical-align: middle;\n",
       "    }\n",
       "\n",
       "    .dataframe tbody tr th {\n",
       "        vertical-align: top;\n",
       "    }\n",
       "\n",
       "    .dataframe thead th {\n",
       "        text-align: right;\n",
       "    }\n",
       "</style>\n",
       "<table border=\"1\" class=\"dataframe\">\n",
       "  <thead>\n",
       "    <tr style=\"text-align: right;\">\n",
       "      <th></th>\n",
       "      <th>param_max_depth</th>\n",
       "      <th>mean_test_score</th>\n",
       "      <th>mean_train_score</th>\n",
       "    </tr>\n",
       "  </thead>\n",
       "  <tbody>\n",
       "    <tr>\n",
       "      <th>0</th>\n",
       "      <td>6</td>\n",
       "      <td>0.843444</td>\n",
       "      <td>0.944879</td>\n",
       "    </tr>\n",
       "    <tr>\n",
       "      <th>1</th>\n",
       "      <td>8</td>\n",
       "      <td>0.854334</td>\n",
       "      <td>0.982692</td>\n",
       "    </tr>\n",
       "    <tr>\n",
       "      <th>2</th>\n",
       "      <td>10</td>\n",
       "      <td>0.847125</td>\n",
       "      <td>0.993369</td>\n",
       "    </tr>\n",
       "    <tr>\n",
       "      <th>3</th>\n",
       "      <td>12</td>\n",
       "      <td>0.841958</td>\n",
       "      <td>0.997212</td>\n",
       "    </tr>\n",
       "    <tr>\n",
       "      <th>4</th>\n",
       "      <td>16</td>\n",
       "      <td>0.841958</td>\n",
       "      <td>0.999660</td>\n",
       "    </tr>\n",
       "    <tr>\n",
       "      <th>5</th>\n",
       "      <td>20</td>\n",
       "      <td>0.842365</td>\n",
       "      <td>0.999966</td>\n",
       "    </tr>\n",
       "    <tr>\n",
       "      <th>6</th>\n",
       "      <td>24</td>\n",
       "      <td>0.841821</td>\n",
       "      <td>1.000000</td>\n",
       "    </tr>\n",
       "  </tbody>\n",
       "</table>\n",
       "</div>"
      ],
      "text/plain": [
       "  param_max_depth  mean_test_score  mean_train_score\n",
       "0               6         0.843444          0.944879\n",
       "1               8         0.854334          0.982692\n",
       "2              10         0.847125          0.993369\n",
       "3              12         0.841958          0.997212\n",
       "4              16         0.841958          0.999660\n",
       "5              20         0.842365          0.999966\n",
       "6              24         0.841821          1.000000"
      ]
     },
     "execution_count": 19,
     "metadata": {},
     "output_type": "execute_result"
    }
   ],
   "source": [
    "\n",
    "train_cv_rlt = cv_results_df[['param_max_depth','mean_test_score','mean_train_score']]\n",
    "train_cv_rlt"
   ]
  },
  {
   "cell_type": "markdown",
   "metadata": {},
   "source": [
    "🔰 Test Data\n",
    "\n",
    "- train과 test의 score 차이가 있으므로 따로 다운로드 받은 Test Data에 대한 Depth별 성능을 확인해 본다."
   ]
  },
  {
   "cell_type": "code",
   "execution_count": 16,
   "metadata": {},
   "outputs": [
    {
     "data": {
      "text/html": [
       "<div>\n",
       "<style scoped>\n",
       "    .dataframe tbody tr th:only-of-type {\n",
       "        vertical-align: middle;\n",
       "    }\n",
       "\n",
       "    .dataframe tbody tr th {\n",
       "        vertical-align: top;\n",
       "    }\n",
       "\n",
       "    .dataframe thead th {\n",
       "        text-align: right;\n",
       "    }\n",
       "</style>\n",
       "<table border=\"1\" class=\"dataframe\">\n",
       "  <thead>\n",
       "    <tr style=\"text-align: right;\">\n",
       "      <th></th>\n",
       "      <th>Max_Depth</th>\n",
       "      <th>Accuracy</th>\n",
       "    </tr>\n",
       "  </thead>\n",
       "  <tbody>\n",
       "    <tr>\n",
       "      <th>0</th>\n",
       "      <td>6</td>\n",
       "      <td>0.855786</td>\n",
       "    </tr>\n",
       "    <tr>\n",
       "      <th>1</th>\n",
       "      <td>8</td>\n",
       "      <td>0.870716</td>\n",
       "    </tr>\n",
       "    <tr>\n",
       "      <th>2</th>\n",
       "      <td>10</td>\n",
       "      <td>0.867323</td>\n",
       "    </tr>\n",
       "    <tr>\n",
       "      <th>3</th>\n",
       "      <td>12</td>\n",
       "      <td>0.864608</td>\n",
       "    </tr>\n",
       "    <tr>\n",
       "      <th>4</th>\n",
       "      <td>16</td>\n",
       "      <td>0.857482</td>\n",
       "    </tr>\n",
       "    <tr>\n",
       "      <th>5</th>\n",
       "      <td>20</td>\n",
       "      <td>0.854768</td>\n",
       "    </tr>\n",
       "    <tr>\n",
       "      <th>6</th>\n",
       "      <td>24</td>\n",
       "      <td>0.854768</td>\n",
       "    </tr>\n",
       "  </tbody>\n",
       "</table>\n",
       "</div>"
      ],
      "text/plain": [
       "   Max_Depth  Accuracy\n",
       "0          6  0.855786\n",
       "1          8  0.870716\n",
       "2         10  0.867323\n",
       "3         12  0.864608\n",
       "4         16  0.857482\n",
       "5         20  0.854768\n",
       "6         24  0.854768"
      ]
     },
     "execution_count": 16,
     "metadata": {},
     "output_type": "execute_result"
    }
   ],
   "source": [
    "max_depths = [6, 8, 10, 12, 16, 20, 24]\n",
    "accuracy = []\n",
    "\n",
    "for depth in max_depths:\n",
    "    dt_clf = DecisionTreeClassifier(max_depth=depth, random_state=156)\n",
    "    dt_clf.fit(X_train, y_train)\n",
    "    pred = dt_clf.predict(X_test)\n",
    "\n",
    "    accuracy.append(accuracy_score(y_test, pred))\n",
    "    \n",
    "    # accuracy = accuracy_score(y_test, pred)\n",
    "    # print(\"Max_Depth =\", depth, \", Accuracy =\", accuracy)    \n",
    "\n",
    "test_cv_rlt = pd.DataFrame({'Max_Depth': max_depths, 'Accuracy': accuracy})\n",
    "test_cv_rlt"
   ]
  },
  {
   "cell_type": "code",
   "execution_count": 17,
   "metadata": {},
   "outputs": [
    {
     "data": {
      "text/html": [
       "<div>\n",
       "<style scoped>\n",
       "    .dataframe tbody tr th:only-of-type {\n",
       "        vertical-align: middle;\n",
       "    }\n",
       "\n",
       "    .dataframe tbody tr th {\n",
       "        vertical-align: top;\n",
       "    }\n",
       "\n",
       "    .dataframe thead th {\n",
       "        text-align: right;\n",
       "    }\n",
       "</style>\n",
       "<table border=\"1\" class=\"dataframe\">\n",
       "  <thead>\n",
       "    <tr style=\"text-align: right;\">\n",
       "      <th></th>\n",
       "      <th>Max_Depth</th>\n",
       "      <th>Accuracy</th>\n",
       "    </tr>\n",
       "  </thead>\n",
       "  <tbody>\n",
       "    <tr>\n",
       "      <th>1</th>\n",
       "      <td>8</td>\n",
       "      <td>0.870716</td>\n",
       "    </tr>\n",
       "    <tr>\n",
       "      <th>2</th>\n",
       "      <td>10</td>\n",
       "      <td>0.867323</td>\n",
       "    </tr>\n",
       "    <tr>\n",
       "      <th>3</th>\n",
       "      <td>12</td>\n",
       "      <td>0.864608</td>\n",
       "    </tr>\n",
       "    <tr>\n",
       "      <th>4</th>\n",
       "      <td>16</td>\n",
       "      <td>0.857482</td>\n",
       "    </tr>\n",
       "    <tr>\n",
       "      <th>0</th>\n",
       "      <td>6</td>\n",
       "      <td>0.855786</td>\n",
       "    </tr>\n",
       "    <tr>\n",
       "      <th>5</th>\n",
       "      <td>20</td>\n",
       "      <td>0.854768</td>\n",
       "    </tr>\n",
       "    <tr>\n",
       "      <th>6</th>\n",
       "      <td>24</td>\n",
       "      <td>0.854768</td>\n",
       "    </tr>\n",
       "  </tbody>\n",
       "</table>\n",
       "</div>"
      ],
      "text/plain": [
       "   Max_Depth  Accuracy\n",
       "1          8  0.870716\n",
       "2         10  0.867323\n",
       "3         12  0.864608\n",
       "4         16  0.857482\n",
       "0          6  0.855786\n",
       "5         20  0.854768\n",
       "6         24  0.854768"
      ]
     },
     "execution_count": 17,
     "metadata": {},
     "output_type": "execute_result"
    }
   ],
   "source": [
    "test_cv_rlt.sort_values(by='Accuracy', ascending=False)"
   ]
  },
  {
   "cell_type": "code",
   "execution_count": 20,
   "metadata": {},
   "outputs": [
    {
     "data": {
      "text/html": [
       "<div>\n",
       "<style scoped>\n",
       "    .dataframe tbody tr th:only-of-type {\n",
       "        vertical-align: middle;\n",
       "    }\n",
       "\n",
       "    .dataframe tbody tr th {\n",
       "        vertical-align: top;\n",
       "    }\n",
       "\n",
       "    .dataframe thead th {\n",
       "        text-align: right;\n",
       "    }\n",
       "</style>\n",
       "<table border=\"1\" class=\"dataframe\">\n",
       "  <thead>\n",
       "    <tr style=\"text-align: right;\">\n",
       "      <th></th>\n",
       "      <th>Max_Depth</th>\n",
       "      <th>Accuracy</th>\n",
       "      <th>Train_Acc</th>\n",
       "    </tr>\n",
       "  </thead>\n",
       "  <tbody>\n",
       "    <tr>\n",
       "      <th>0</th>\n",
       "      <td>6</td>\n",
       "      <td>0.855786</td>\n",
       "      <td>0.843444</td>\n",
       "    </tr>\n",
       "    <tr>\n",
       "      <th>1</th>\n",
       "      <td>8</td>\n",
       "      <td>0.870716</td>\n",
       "      <td>0.854334</td>\n",
       "    </tr>\n",
       "    <tr>\n",
       "      <th>2</th>\n",
       "      <td>10</td>\n",
       "      <td>0.867323</td>\n",
       "      <td>0.847125</td>\n",
       "    </tr>\n",
       "    <tr>\n",
       "      <th>3</th>\n",
       "      <td>12</td>\n",
       "      <td>0.864608</td>\n",
       "      <td>0.841958</td>\n",
       "    </tr>\n",
       "    <tr>\n",
       "      <th>4</th>\n",
       "      <td>16</td>\n",
       "      <td>0.857482</td>\n",
       "      <td>0.841958</td>\n",
       "    </tr>\n",
       "    <tr>\n",
       "      <th>5</th>\n",
       "      <td>20</td>\n",
       "      <td>0.854768</td>\n",
       "      <td>0.842365</td>\n",
       "    </tr>\n",
       "    <tr>\n",
       "      <th>6</th>\n",
       "      <td>24</td>\n",
       "      <td>0.854768</td>\n",
       "      <td>0.841821</td>\n",
       "    </tr>\n",
       "  </tbody>\n",
       "</table>\n",
       "</div>"
      ],
      "text/plain": [
       "   Max_Depth  Accuracy  Train_Acc\n",
       "0          6  0.855786   0.843444\n",
       "1          8  0.870716   0.854334\n",
       "2         10  0.867323   0.847125\n",
       "3         12  0.864608   0.841958\n",
       "4         16  0.857482   0.841958\n",
       "5         20  0.854768   0.842365\n",
       "6         24  0.854768   0.841821"
      ]
     },
     "execution_count": 20,
     "metadata": {},
     "output_type": "execute_result"
    }
   ],
   "source": [
    "test_cv_rlt['Train_Acc'] = train_cv_rlt['mean_test_score']\n",
    "test_cv_rlt"
   ]
  },
  {
   "cell_type": "markdown",
   "metadata": {},
   "source": [
    "🚩 __Best Model__"
   ]
  },
  {
   "cell_type": "code",
   "execution_count": 18,
   "metadata": {},
   "outputs": [
    {
     "data": {
      "text/html": [
       "<style>#sk-container-id-2 {color: black;}#sk-container-id-2 pre{padding: 0;}#sk-container-id-2 div.sk-toggleable {background-color: white;}#sk-container-id-2 label.sk-toggleable__label {cursor: pointer;display: block;width: 100%;margin-bottom: 0;padding: 0.3em;box-sizing: border-box;text-align: center;}#sk-container-id-2 label.sk-toggleable__label-arrow:before {content: \"▸\";float: left;margin-right: 0.25em;color: #696969;}#sk-container-id-2 label.sk-toggleable__label-arrow:hover:before {color: black;}#sk-container-id-2 div.sk-estimator:hover label.sk-toggleable__label-arrow:before {color: black;}#sk-container-id-2 div.sk-toggleable__content {max-height: 0;max-width: 0;overflow: hidden;text-align: left;background-color: #f0f8ff;}#sk-container-id-2 div.sk-toggleable__content pre {margin: 0.2em;color: black;border-radius: 0.25em;background-color: #f0f8ff;}#sk-container-id-2 input.sk-toggleable__control:checked~div.sk-toggleable__content {max-height: 200px;max-width: 100%;overflow: auto;}#sk-container-id-2 input.sk-toggleable__control:checked~label.sk-toggleable__label-arrow:before {content: \"▾\";}#sk-container-id-2 div.sk-estimator input.sk-toggleable__control:checked~label.sk-toggleable__label {background-color: #d4ebff;}#sk-container-id-2 div.sk-label input.sk-toggleable__control:checked~label.sk-toggleable__label {background-color: #d4ebff;}#sk-container-id-2 input.sk-hidden--visually {border: 0;clip: rect(1px 1px 1px 1px);clip: rect(1px, 1px, 1px, 1px);height: 1px;margin: -1px;overflow: hidden;padding: 0;position: absolute;width: 1px;}#sk-container-id-2 div.sk-estimator {font-family: monospace;background-color: #f0f8ff;border: 1px dotted black;border-radius: 0.25em;box-sizing: border-box;margin-bottom: 0.5em;}#sk-container-id-2 div.sk-estimator:hover {background-color: #d4ebff;}#sk-container-id-2 div.sk-parallel-item::after {content: \"\";width: 100%;border-bottom: 1px solid gray;flex-grow: 1;}#sk-container-id-2 div.sk-label:hover label.sk-toggleable__label {background-color: #d4ebff;}#sk-container-id-2 div.sk-serial::before {content: \"\";position: absolute;border-left: 1px solid gray;box-sizing: border-box;top: 0;bottom: 0;left: 50%;z-index: 0;}#sk-container-id-2 div.sk-serial {display: flex;flex-direction: column;align-items: center;background-color: white;padding-right: 0.2em;padding-left: 0.2em;position: relative;}#sk-container-id-2 div.sk-item {position: relative;z-index: 1;}#sk-container-id-2 div.sk-parallel {display: flex;align-items: stretch;justify-content: center;background-color: white;position: relative;}#sk-container-id-2 div.sk-item::before, #sk-container-id-2 div.sk-parallel-item::before {content: \"\";position: absolute;border-left: 1px solid gray;box-sizing: border-box;top: 0;bottom: 0;left: 50%;z-index: -1;}#sk-container-id-2 div.sk-parallel-item {display: flex;flex-direction: column;z-index: 1;position: relative;background-color: white;}#sk-container-id-2 div.sk-parallel-item:first-child::after {align-self: flex-end;width: 50%;}#sk-container-id-2 div.sk-parallel-item:last-child::after {align-self: flex-start;width: 50%;}#sk-container-id-2 div.sk-parallel-item:only-child::after {width: 0;}#sk-container-id-2 div.sk-dashed-wrapped {border: 1px dashed gray;margin: 0 0.4em 0.5em 0.4em;box-sizing: border-box;padding-bottom: 0.4em;background-color: white;}#sk-container-id-2 div.sk-label label {font-family: monospace;font-weight: bold;display: inline-block;line-height: 1.2em;}#sk-container-id-2 div.sk-label-container {text-align: center;}#sk-container-id-2 div.sk-container {/* jupyter's `normalize.less` sets `[hidden] { display: none; }` but bootstrap.min.css set `[hidden] { display: none !important; }` so we also need the `!important` here to be able to override the default hidden behavior on the sphinx rendered scikit-learn.org. See: https://github.com/scikit-learn/scikit-learn/issues/21755 */display: inline-block !important;position: relative;}#sk-container-id-2 div.sk-text-repr-fallback {display: none;}</style><div id=\"sk-container-id-2\" class=\"sk-top-container\"><div class=\"sk-text-repr-fallback\"><pre>DecisionTreeClassifier(max_depth=8, random_state=13)</pre><b>In a Jupyter environment, please rerun this cell to show the HTML representation or trust the notebook. <br />On GitHub, the HTML representation is unable to render, please try loading this page with nbviewer.org.</b></div><div class=\"sk-container\" hidden><div class=\"sk-item\"><div class=\"sk-estimator sk-toggleable\"><input class=\"sk-toggleable__control sk-hidden--visually\" id=\"sk-estimator-id-4\" type=\"checkbox\" checked><label for=\"sk-estimator-id-4\" class=\"sk-toggleable__label sk-toggleable__label-arrow\">DecisionTreeClassifier</label><div class=\"sk-toggleable__content\"><pre>DecisionTreeClassifier(max_depth=8, random_state=13)</pre></div></div></div></div></div>"
      ],
      "text/plain": [
       "DecisionTreeClassifier(max_depth=8, random_state=13)"
      ]
     },
     "execution_count": 18,
     "metadata": {},
     "output_type": "execute_result"
    }
   ],
   "source": [
    "best_dt_clf = grid_cv.best_estimator_\n",
    "best_dt_clf"
   ]
  },
  {
   "cell_type": "code",
   "execution_count": 21,
   "metadata": {},
   "outputs": [
    {
     "data": {
      "text/plain": [
       "0.8734306073973532"
      ]
     },
     "execution_count": 21,
     "metadata": {},
     "output_type": "execute_result"
    }
   ],
   "source": [
    "\n",
    "best_pred = best_dt_clf.predict(X_test)\n",
    "accuracy_score(y_test, best_pred)"
   ]
  },
  {
   "cell_type": "markdown",
   "metadata": {},
   "source": [
    "</br>\n",
    "\n",
    "### --▶ Random Forest\n",
    "\n",
    "- 랜덤포레스트 알고리즘을 적용해 모델 생성"
   ]
  },
  {
   "cell_type": "markdown",
   "metadata": {},
   "source": [
    "#### 🔰 Train Data\n",
    "\n",
    "GridsearchCV</br>\n",
    "@Param\n",
    "\n",
    "- `max_depth` : Decision Tree에 적용할 param\n",
    "\n",
    "- `n_estimators` : Decision Tree를 몇 개 사용할 지\n",
    "\n",
    "- `min_samples_leaf` : DT의 마지막 노드의 최소 데이터 개수, max_depth 까지 가지 않아도 데이터 개수가 너무 작으면 거기서 STOP~!!\n",
    "\n",
    "- `min_samples_split` : 노드 분할 기준에서 최소한으로 남길 데이터의 개수 지정\n",
    "\n",
    "- 'min_samples_leaf'와 'min_samples_split'는 모델에 큰 영형을 주지 않는다.\n",
    "\n",
    "- `n_jobs=` 옵션은 CPU Core 몇 개를 써서 학습을 시킬지 대한 설정이다. -1은 다 쓰라는 의미이다."
   ]
  },
  {
   "cell_type": "code",
   "execution_count": 22,
   "metadata": {},
   "outputs": [
    {
     "name": "stderr",
     "output_type": "stream",
     "text": [
      "c:\\Users\\happy\\miniconda3\\envs\\ds_study\\lib\\site-packages\\sklearn\\base.py:1151: DataConversionWarning: A column-vector y was passed when a 1d array was expected. Please change the shape of y to (n_samples,), for example using ravel().\n",
      "  return fit_method(estimator, *args, **kwargs)\n"
     ]
    },
    {
     "data": {
      "text/html": [
       "<style>#sk-container-id-3 {color: black;}#sk-container-id-3 pre{padding: 0;}#sk-container-id-3 div.sk-toggleable {background-color: white;}#sk-container-id-3 label.sk-toggleable__label {cursor: pointer;display: block;width: 100%;margin-bottom: 0;padding: 0.3em;box-sizing: border-box;text-align: center;}#sk-container-id-3 label.sk-toggleable__label-arrow:before {content: \"▸\";float: left;margin-right: 0.25em;color: #696969;}#sk-container-id-3 label.sk-toggleable__label-arrow:hover:before {color: black;}#sk-container-id-3 div.sk-estimator:hover label.sk-toggleable__label-arrow:before {color: black;}#sk-container-id-3 div.sk-toggleable__content {max-height: 0;max-width: 0;overflow: hidden;text-align: left;background-color: #f0f8ff;}#sk-container-id-3 div.sk-toggleable__content pre {margin: 0.2em;color: black;border-radius: 0.25em;background-color: #f0f8ff;}#sk-container-id-3 input.sk-toggleable__control:checked~div.sk-toggleable__content {max-height: 200px;max-width: 100%;overflow: auto;}#sk-container-id-3 input.sk-toggleable__control:checked~label.sk-toggleable__label-arrow:before {content: \"▾\";}#sk-container-id-3 div.sk-estimator input.sk-toggleable__control:checked~label.sk-toggleable__label {background-color: #d4ebff;}#sk-container-id-3 div.sk-label input.sk-toggleable__control:checked~label.sk-toggleable__label {background-color: #d4ebff;}#sk-container-id-3 input.sk-hidden--visually {border: 0;clip: rect(1px 1px 1px 1px);clip: rect(1px, 1px, 1px, 1px);height: 1px;margin: -1px;overflow: hidden;padding: 0;position: absolute;width: 1px;}#sk-container-id-3 div.sk-estimator {font-family: monospace;background-color: #f0f8ff;border: 1px dotted black;border-radius: 0.25em;box-sizing: border-box;margin-bottom: 0.5em;}#sk-container-id-3 div.sk-estimator:hover {background-color: #d4ebff;}#sk-container-id-3 div.sk-parallel-item::after {content: \"\";width: 100%;border-bottom: 1px solid gray;flex-grow: 1;}#sk-container-id-3 div.sk-label:hover label.sk-toggleable__label {background-color: #d4ebff;}#sk-container-id-3 div.sk-serial::before {content: \"\";position: absolute;border-left: 1px solid gray;box-sizing: border-box;top: 0;bottom: 0;left: 50%;z-index: 0;}#sk-container-id-3 div.sk-serial {display: flex;flex-direction: column;align-items: center;background-color: white;padding-right: 0.2em;padding-left: 0.2em;position: relative;}#sk-container-id-3 div.sk-item {position: relative;z-index: 1;}#sk-container-id-3 div.sk-parallel {display: flex;align-items: stretch;justify-content: center;background-color: white;position: relative;}#sk-container-id-3 div.sk-item::before, #sk-container-id-3 div.sk-parallel-item::before {content: \"\";position: absolute;border-left: 1px solid gray;box-sizing: border-box;top: 0;bottom: 0;left: 50%;z-index: -1;}#sk-container-id-3 div.sk-parallel-item {display: flex;flex-direction: column;z-index: 1;position: relative;background-color: white;}#sk-container-id-3 div.sk-parallel-item:first-child::after {align-self: flex-end;width: 50%;}#sk-container-id-3 div.sk-parallel-item:last-child::after {align-self: flex-start;width: 50%;}#sk-container-id-3 div.sk-parallel-item:only-child::after {width: 0;}#sk-container-id-3 div.sk-dashed-wrapped {border: 1px dashed gray;margin: 0 0.4em 0.5em 0.4em;box-sizing: border-box;padding-bottom: 0.4em;background-color: white;}#sk-container-id-3 div.sk-label label {font-family: monospace;font-weight: bold;display: inline-block;line-height: 1.2em;}#sk-container-id-3 div.sk-label-container {text-align: center;}#sk-container-id-3 div.sk-container {/* jupyter's `normalize.less` sets `[hidden] { display: none; }` but bootstrap.min.css set `[hidden] { display: none !important; }` so we also need the `!important` here to be able to override the default hidden behavior on the sphinx rendered scikit-learn.org. See: https://github.com/scikit-learn/scikit-learn/issues/21755 */display: inline-block !important;position: relative;}#sk-container-id-3 div.sk-text-repr-fallback {display: none;}</style><div id=\"sk-container-id-3\" class=\"sk-top-container\"><div class=\"sk-text-repr-fallback\"><pre>GridSearchCV(cv=2, estimator=RandomForestClassifier(n_jobs=-1, random_state=13),\n",
       "             n_jobs=-1,\n",
       "             param_grid={&#x27;max_depth&#x27;: [6, 8, 10], &#x27;min_samples_leaf&#x27;: [8, 12],\n",
       "                         &#x27;min_samples_split&#x27;: [8, 12],\n",
       "                         &#x27;n_estimators&#x27;: [50, 100, 200]})</pre><b>In a Jupyter environment, please rerun this cell to show the HTML representation or trust the notebook. <br />On GitHub, the HTML representation is unable to render, please try loading this page with nbviewer.org.</b></div><div class=\"sk-container\" hidden><div class=\"sk-item sk-dashed-wrapped\"><div class=\"sk-label-container\"><div class=\"sk-label sk-toggleable\"><input class=\"sk-toggleable__control sk-hidden--visually\" id=\"sk-estimator-id-5\" type=\"checkbox\" ><label for=\"sk-estimator-id-5\" class=\"sk-toggleable__label sk-toggleable__label-arrow\">GridSearchCV</label><div class=\"sk-toggleable__content\"><pre>GridSearchCV(cv=2, estimator=RandomForestClassifier(n_jobs=-1, random_state=13),\n",
       "             n_jobs=-1,\n",
       "             param_grid={&#x27;max_depth&#x27;: [6, 8, 10], &#x27;min_samples_leaf&#x27;: [8, 12],\n",
       "                         &#x27;min_samples_split&#x27;: [8, 12],\n",
       "                         &#x27;n_estimators&#x27;: [50, 100, 200]})</pre></div></div></div><div class=\"sk-parallel\"><div class=\"sk-parallel-item\"><div class=\"sk-item\"><div class=\"sk-label-container\"><div class=\"sk-label sk-toggleable\"><input class=\"sk-toggleable__control sk-hidden--visually\" id=\"sk-estimator-id-6\" type=\"checkbox\" ><label for=\"sk-estimator-id-6\" class=\"sk-toggleable__label sk-toggleable__label-arrow\">estimator: RandomForestClassifier</label><div class=\"sk-toggleable__content\"><pre>RandomForestClassifier(n_jobs=-1, random_state=13)</pre></div></div></div><div class=\"sk-serial\"><div class=\"sk-item\"><div class=\"sk-estimator sk-toggleable\"><input class=\"sk-toggleable__control sk-hidden--visually\" id=\"sk-estimator-id-7\" type=\"checkbox\" ><label for=\"sk-estimator-id-7\" class=\"sk-toggleable__label sk-toggleable__label-arrow\">RandomForestClassifier</label><div class=\"sk-toggleable__content\"><pre>RandomForestClassifier(n_jobs=-1, random_state=13)</pre></div></div></div></div></div></div></div></div></div></div>"
      ],
      "text/plain": [
       "GridSearchCV(cv=2, estimator=RandomForestClassifier(n_jobs=-1, random_state=13),\n",
       "             n_jobs=-1,\n",
       "             param_grid={'max_depth': [6, 8, 10], 'min_samples_leaf': [8, 12],\n",
       "                         'min_samples_split': [8, 12],\n",
       "                         'n_estimators': [50, 100, 200]})"
      ]
     },
     "execution_count": 22,
     "metadata": {},
     "output_type": "execute_result"
    }
   ],
   "source": [
    "from sklearn.model_selection import GridSearchCV\n",
    "from sklearn.ensemble import RandomForestClassifier\n",
    "\n",
    "params = {\n",
    "\t'max_depth': [6, 8, 10],\n",
    "\t'n_estimators': [50, 100, 200],\n",
    "\t'min_samples_leaf': [8, 12],\n",
    "\t'min_samples_split': [8, 12]\n",
    "}\n",
    "\n",
    "rf_clf = RandomForestClassifier(random_state=13, n_jobs=-1)\n",
    "grid_cv = GridSearchCV(rf_clf, param_grid=params, cv=2, n_jobs=-1)\n",
    "grid_cv.fit(X_train, y_train)"
   ]
  },
  {
   "cell_type": "markdown",
   "metadata": {},
   "source": [
    "#### 🔰 성능 정리"
   ]
  },
  {
   "cell_type": "code",
   "execution_count": 23,
   "metadata": {},
   "outputs": [
    {
     "data": {
      "text/plain": [
       "Index(['mean_fit_time', 'std_fit_time', 'mean_score_time', 'std_score_time',\n",
       "       'param_max_depth', 'param_min_samples_leaf', 'param_min_samples_split',\n",
       "       'param_n_estimators', 'params', 'split0_test_score',\n",
       "       'split1_test_score', 'mean_test_score', 'std_test_score',\n",
       "       'rank_test_score'],\n",
       "      dtype='object')"
      ]
     },
     "execution_count": 23,
     "metadata": {},
     "output_type": "execute_result"
    }
   ],
   "source": [
    "cv_results_df = pd.DataFrame(grid_cv.cv_results_)\n",
    "cv_results_df.columns"
   ]
  },
  {
   "cell_type": "code",
   "execution_count": 24,
   "metadata": {},
   "outputs": [
    {
     "data": {
      "text/html": [
       "<div>\n",
       "<style scoped>\n",
       "    .dataframe tbody tr th:only-of-type {\n",
       "        vertical-align: middle;\n",
       "    }\n",
       "\n",
       "    .dataframe tbody tr th {\n",
       "        vertical-align: top;\n",
       "    }\n",
       "\n",
       "    .dataframe thead th {\n",
       "        text-align: right;\n",
       "    }\n",
       "</style>\n",
       "<table border=\"1\" class=\"dataframe\">\n",
       "  <thead>\n",
       "    <tr style=\"text-align: right;\">\n",
       "      <th></th>\n",
       "      <th>rank_test_score</th>\n",
       "      <th>mean_test_score</th>\n",
       "      <th>param_n_estimators</th>\n",
       "      <th>param_max_depth</th>\n",
       "    </tr>\n",
       "  </thead>\n",
       "  <tbody>\n",
       "    <tr>\n",
       "      <th>28</th>\n",
       "      <td>1</td>\n",
       "      <td>0.915125</td>\n",
       "      <td>100</td>\n",
       "      <td>10</td>\n",
       "    </tr>\n",
       "    <tr>\n",
       "      <th>25</th>\n",
       "      <td>1</td>\n",
       "      <td>0.915125</td>\n",
       "      <td>100</td>\n",
       "      <td>10</td>\n",
       "    </tr>\n",
       "    <tr>\n",
       "      <th>23</th>\n",
       "      <td>3</td>\n",
       "      <td>0.912813</td>\n",
       "      <td>200</td>\n",
       "      <td>8</td>\n",
       "    </tr>\n",
       "    <tr>\n",
       "      <th>20</th>\n",
       "      <td>3</td>\n",
       "      <td>0.912813</td>\n",
       "      <td>200</td>\n",
       "      <td>8</td>\n",
       "    </tr>\n",
       "    <tr>\n",
       "      <th>35</th>\n",
       "      <td>5</td>\n",
       "      <td>0.912541</td>\n",
       "      <td>200</td>\n",
       "      <td>10</td>\n",
       "    </tr>\n",
       "  </tbody>\n",
       "</table>\n",
       "</div>"
      ],
      "text/plain": [
       "    rank_test_score  mean_test_score param_n_estimators param_max_depth\n",
       "28                1         0.915125                100              10\n",
       "25                1         0.915125                100              10\n",
       "23                3         0.912813                200               8\n",
       "20                3         0.912813                200               8\n",
       "35                5         0.912541                200              10"
      ]
     },
     "execution_count": 24,
     "metadata": {},
     "output_type": "execute_result"
    }
   ],
   "source": [
    "target_col = ['rank_test_score', 'mean_test_score', 'param_n_estimators', 'param_max_depth']\n",
    "cv_results_df[target_col].sort_values(by='rank_test_score').head()"
   ]
  },
  {
   "cell_type": "markdown",
   "metadata": {},
   "source": [
    "👉 `mean_test_score`\n",
    "\n",
    "- 이 값은 Train Data의 Validation(cv) Score이다.\n",
    "\n",
    "- 랜덤포레스트를 사용할 경우 성능이 좋다. --> 91.5%"
   ]
  },
  {
   "cell_type": "markdown",
   "metadata": {},
   "source": [
    "#### 🚩 __Best Model__"
   ]
  },
  {
   "cell_type": "code",
   "execution_count": 25,
   "metadata": {},
   "outputs": [
    {
     "data": {
      "text/plain": [
       "{'max_depth': 10,\n",
       " 'min_samples_leaf': 8,\n",
       " 'min_samples_split': 8,\n",
       " 'n_estimators': 100}"
      ]
     },
     "execution_count": 25,
     "metadata": {},
     "output_type": "execute_result"
    }
   ],
   "source": [
    "grid_cv.best_params_"
   ]
  },
  {
   "cell_type": "code",
   "execution_count": 26,
   "metadata": {},
   "outputs": [
    {
     "data": {
      "text/plain": [
       "0.9151251360174102"
      ]
     },
     "execution_count": 26,
     "metadata": {},
     "output_type": "execute_result"
    }
   ],
   "source": [
    "grid_cv.best_score_"
   ]
  },
  {
   "cell_type": "markdown",
   "metadata": {},
   "source": [
    "#### 🔰 Test Data에 적용\n",
    "\n",
    "- 위에서 찾은 베스트 모델로 다시 Train Data를 학습시킨 후 Test Data로 성능을 확인한다."
   ]
  },
  {
   "cell_type": "code",
   "execution_count": 27,
   "metadata": {},
   "outputs": [
    {
     "name": "stderr",
     "output_type": "stream",
     "text": [
      "c:\\Users\\happy\\miniconda3\\envs\\ds_study\\lib\\site-packages\\sklearn\\base.py:1151: DataConversionWarning: A column-vector y was passed when a 1d array was expected. Please change the shape of y to (n_samples,), for example using ravel().\n",
      "  return fit_method(estimator, *args, **kwargs)\n"
     ]
    },
    {
     "data": {
      "text/plain": [
       "0.9205972175093315"
      ]
     },
     "execution_count": 27,
     "metadata": {},
     "output_type": "execute_result"
    }
   ],
   "source": [
    "rf_clf_best = grid_cv.best_estimator_\n",
    "rf_clf_best.fit(X_train, y_train)\n",
    "\n",
    "best_pred = rf_clf_best.predict(X_test)\n",
    "\n",
    "accuracy_score(y_test, best_pred)"
   ]
  },
  {
   "cell_type": "markdown",
   "metadata": {},
   "source": [
    "👉 결과\n",
    "\n",
    "- Decision Tree(87.1%)에 비해 92.1%로 성능이 좋다."
   ]
  },
  {
   "cell_type": "markdown",
   "metadata": {},
   "source": [
    "</br>\n",
    "\n",
    "#### 🎫 중요 특성 확인 및 관찰\n",
    "\n",
    "- 주요 특성 20개를 찾고 시각화하여 비교해 본다."
   ]
  },
  {
   "cell_type": "code",
   "execution_count": 38,
   "metadata": {},
   "outputs": [
    {
     "data": {
      "text/plain": [
       "tBodyAcc-mean()-X                       0.000096\n",
       "tBodyAcc-mean()-Y                       0.000217\n",
       "tBodyAcc-mean()-Z                       0.000058\n",
       "tBodyAcc-std()-X                        0.007843\n",
       "tBodyAcc-std()-Y                        0.000252\n",
       "                                          ...   \n",
       "angle(tBodyGyroMean,gravityMean)        0.000203\n",
       "angle(tBodyGyroJerkMean,gravityMean)    0.000270\n",
       "angle(X,gravityMean)                    0.034638\n",
       "angle(Y,gravityMean)                    0.026553\n",
       "angle(Z,gravityMean)                    0.012837\n",
       "Length: 561, dtype: float64"
      ]
     },
     "execution_count": 38,
     "metadata": {},
     "output_type": "execute_result"
    }
   ],
   "source": [
    "best_cols_values = rf_clf_best.feature_importances_\n",
    "best_cols = pd.Series(best_cols_values, index=X_train.columns)\n",
    "best_cols"
   ]
  },
  {
   "cell_type": "code",
   "execution_count": 39,
   "metadata": {},
   "outputs": [
    {
     "data": {
      "text/plain": [
       "angle(X,gravityMean)               0.034638\n",
       "tGravityAcc-max()-Y                0.032518\n",
       "tGravityAcc-energy()-X             0.031309\n",
       "tGravityAcc-mean()-X               0.029513\n",
       "tGravityAcc-min()-X                0.027775\n",
       "tGravityAcc-max()-X                0.027662\n",
       "angle(Y,gravityMean)               0.026553\n",
       "tGravityAcc-mean()-Y               0.026052\n",
       "tGravityAcc-min()-Y                0.023037\n",
       "tGravityAcc-energy()-Y             0.018678\n",
       "tGravityAcc-mean()-Z               0.015688\n",
       "angle(Z,gravityMean)               0.012837\n",
       "fBodyAcc-mad()-X                   0.012558\n",
       "tBodyAcc-max()-X                   0.011970\n",
       "fBodyAccJerk-bandsEnergy()-1,24    0.011803\n",
       "tBodyAccJerk-entropy()-X           0.011647\n",
       "tGravityAccMag-std()               0.011451\n",
       "tBodyAccJerk-energy()-X            0.011333\n",
       "tGravityAcc-arCoeff()-Z,1          0.011257\n",
       "fBodyAccJerk-max()-X               0.011040\n",
       "dtype: float64"
      ]
     },
     "execution_count": 39,
     "metadata": {},
     "output_type": "execute_result"
    }
   ],
   "source": [
    "\n",
    "top20_cols = best_cols.sort_values(ascending=False)[:20]\n",
    "top20_cols"
   ]
  },
  {
   "cell_type": "markdown",
   "metadata": {},
   "source": [
    "👉 각 특성들의 중요도가 개별적으로 높지 않다."
   ]
  },
  {
   "cell_type": "code",
   "execution_count": 37,
   "metadata": {},
   "outputs": [
    {
     "data": {
      "text/plain": [
       "Index(['angle(X,gravityMean)', 'tGravityAcc-max()-Y', 'tGravityAcc-energy()-X',\n",
       "       'tGravityAcc-mean()-X', 'tGravityAcc-min()-X', 'tGravityAcc-max()-X',\n",
       "       'angle(Y,gravityMean)', 'tGravityAcc-mean()-Y', 'tGravityAcc-min()-Y',\n",
       "       'tGravityAcc-energy()-Y', 'tGravityAcc-mean()-Z',\n",
       "       'angle(Z,gravityMean)', 'fBodyAcc-mad()-X', 'tBodyAcc-max()-X',\n",
       "       'fBodyAccJerk-bandsEnergy()-1,24', 'tBodyAccJerk-entropy()-X',\n",
       "       'tGravityAccMag-std()', 'tBodyAccJerk-energy()-X',\n",
       "       'tGravityAcc-arCoeff()-Z,1', 'fBodyAccJerk-max()-X'],\n",
       "      dtype='object')"
      ]
     },
     "execution_count": 37,
     "metadata": {},
     "output_type": "execute_result"
    }
   ],
   "source": [
    "top20_cols.index #--> 주요 특성 20개"
   ]
  },
  {
   "cell_type": "code",
   "execution_count": 36,
   "metadata": {},
   "outputs": [
    {
     "data": {
      "image/png": "[encoded data removed]",
      "text/plain": [
       "<Figure size 800x800 with 1 Axes>"
      ]
     },
     "metadata": {},
     "output_type": "display_data"
    }
   ],
   "source": [
    "import matplotlib.pyplot as plt\n",
    "import seaborn as sns\n",
    "\n",
    "plt.figure(figsize=(8,8))\n",
    "sns.barplot(x=top20_cols, y=top20_cols.index, hue=top20_cols.index, legend=False, palette='Spectral')\n",
    "plt.show()"
   ]
  },
  {
   "cell_type": "markdown",
   "metadata": {},
   "source": [
    "#### 🎫 주요 특성 20개만으로 모델 생성\n",
    "\n",
    "- 모델에 기여도가 높았던 Top20의 특성만 가지고 다시 성능을 확인해 본다.\n",
    "\n",
    "- 561개의 특성보다 20개의 특성만 보면 연산속도가 정말 빠를 것이다. 비록 acc는 포기하더라도~"
   ]
  },
  {
   "cell_type": "code",
   "execution_count": 40,
   "metadata": {},
   "outputs": [],
   "source": [
    "X_train_20 = X_train[top20_cols.index]\n",
    "X_test_20 = X_test[top20_cols.index]"
   ]
  },
  {
   "cell_type": "code",
   "execution_count": 42,
   "metadata": {},
   "outputs": [
    {
     "data": {
      "text/plain": [
       "(array([5, 5, 5, ..., 2, 2, 2], dtype=int64), 7352)"
      ]
     },
     "execution_count": 42,
     "metadata": {},
     "output_type": "execute_result"
    }
   ],
   "source": [
    "y_train.values.reshape(-1,), len(y_train.values.reshape(-1,))"
   ]
  },
  {
   "cell_type": "code",
   "execution_count": 43,
   "metadata": {},
   "outputs": [
    {
     "data": {
      "text/plain": [
       "0.8177807940278249"
      ]
     },
     "execution_count": 43,
     "metadata": {},
     "output_type": "execute_result"
    }
   ],
   "source": [
    "rf_clf_best_20 = grid_cv.best_estimator_\n",
    "rf_clf_best_20.fit(X_train_20, y_train.values.reshape(-1,))\n",
    "\n",
    "pred_best_20 = rf_clf_best_20.predict(X_test_20)\n",
    "\n",
    "accuracy_score(y_test, pred_best_20)"
   ]
  }
 ],
 "metadata": {
  "kernelspec": {
   "display_name": "ds_study",
   "language": "python",
   "name": "python3"
  },
  "language_info": {
   "codemirror_mode": {
    "name": "ipython",
    "version": 3
   },
   "file_extension": ".py",
   "mimetype": "text/x-python",
   "name": "python",
   "nbconvert_exporter": "python",
   "pygments_lexer": "ipython3",
   "version": "3.8.18"
  }
 },
 "nbformat": 4,
 "nbformat_minor": 2
}
